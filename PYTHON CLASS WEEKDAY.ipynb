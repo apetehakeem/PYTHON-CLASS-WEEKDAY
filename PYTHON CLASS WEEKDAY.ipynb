{
 "cells": [
  {
   "cell_type": "code",
   "execution_count": null,
   "id": "8115dbaa",
   "metadata": {},
   "outputs": [],
   "source": [
    "introduction\n",
    "# installation\n",
    "# printing information\n",
    "# accept input\n",
    "# variables\n",
    "# data types - strings, lists, dictionary, sets, tuple, boolean, none\n",
    "# operators\n",
    "# control flow\n",
    "# loops\n",
    "# functions\n",
    "# lambda\n",
    "# higher order functions\n",
    "# args and kwargs\n",
    "# module\n",
    "# packages\n",
    "# working with file"
   ]
  },
  {
   "cell_type": "code",
   "execution_count": null,
   "id": "a4896422",
   "metadata": {},
   "outputs": [],
   "source": [
    "print(2 + 2)"
   ]
  },
  {
   "cell_type": "code",
   "execution_count": null,
   "id": "16cd8ec0",
   "metadata": {},
   "outputs": [],
   "source": [
    "print(\"wale\")"
   ]
  },
  {
   "cell_type": "code",
   "execution_count": null,
   "id": "1c432bc4",
   "metadata": {},
   "outputs": [],
   "source": [
    "print(\"2 + 2 =\", 2 + 2)"
   ]
  },
  {
   "cell_type": "code",
   "execution_count": null,
   "id": "0706c988",
   "metadata": {},
   "outputs": [],
   "source": [
    "print(\"Total revenue is\", 5000)"
   ]
  },
  {
   "cell_type": "code",
   "execution_count": null,
   "id": "3d60694c",
   "metadata": {},
   "outputs": [],
   "source": [
    "# accepting informationm from user\n",
    "input(\"Enter your name\")"
   ]
  },
  {
   "cell_type": "code",
   "execution_count": null,
   "id": "3ce688d3",
   "metadata": {},
   "outputs": [],
   "source": [
    "# variables - are used to store data\n",
    "age = input(\"enter your age\\n\")\n",
    "firstname = input(\"enter your first name: \\n\")\n",
    "print(\"Welcome\", firstname, \"you are\", age, \"years old\")"
   ]
  },
  {
   "cell_type": "code",
   "execution_count": null,
   "id": "a556de8b",
   "metadata": {},
   "outputs": [],
   "source": [
    "# Variable rules\n",
    "#1. No spaces between variable name eg. first name is wrong instead use first_name\n",
    "#2 do not use a reserved word as variable eg. print, input, global are reserved words\n",
    "#3. Do not start with a number eg. 2numbers\n",
    "#4. do not use symbols except underscore eg. #, !, @, &, (, *\n",
    "# 5. use descriptive word eg. total_price = 500"
   ]
  },
  {
   "cell_type": "code",
   "execution_count": null,
   "id": "0c071538",
   "metadata": {},
   "outputs": [],
   "source": [
    "# data types - A way of storing and manipulating data"
   ]
  },
  {
   "cell_type": "code",
   "execution_count": null,
   "id": "f5f30b6c",
   "metadata": {},
   "outputs": [],
   "source": [
    "# strings data type - a sequence of characters.\n",
    "# it is denoted by '', \" \", \"\"\" \"\"\"'\n",
    "address = \"70c Allen Avenue, Ikeja \"\\\n",
    "\"Life is not hard\"\n",
    "first_name = 'wale'\n",
    "message = \"\"\"Welcome to Data Analytics.\n",
    "Hope you are enjoying the class.\n",
    "Thank You\"\"\""
   ]
  },
  {
   "cell_type": "code",
   "execution_count": null,
   "id": "d2f9731b",
   "metadata": {},
   "outputs": [],
   "source": [
    "print(address)"
   ]
  },
  {
   "cell_type": "code",
   "execution_count": null,
   "id": "7381854f",
   "metadata": {},
   "outputs": [],
   "source": [
    "print(message)"
   ]
  },
  {
   "cell_type": "code",
   "execution_count": null,
   "id": "e9a293b7",
   "metadata": {},
   "outputs": [],
   "source": [
    "len(first_name)"
   ]
  },
  {
   "cell_type": "code",
   "execution_count": null,
   "id": "2f9aae1f",
   "metadata": {},
   "outputs": [],
   "source": [
    "# indexing - extract single character\n",
    "first_name [2]"
   ]
  },
  {
   "cell_type": "code",
   "execution_count": null,
   "id": "27c93323",
   "metadata": {},
   "outputs": [],
   "source": [
    "first_name [-2]"
   ]
  },
  {
   "cell_type": "code",
   "execution_count": null,
   "id": "17e2d127",
   "metadata": {},
   "outputs": [],
   "source": [
    "address"
   ]
  },
  {
   "cell_type": "code",
   "execution_count": null,
   "id": "e51d92bf",
   "metadata": {},
   "outputs": [],
   "source": [
    "# slicing - for extracting multiple characters\n",
    "address [4:9]"
   ]
  },
  {
   "cell_type": "code",
   "execution_count": null,
   "id": "7b19f06a",
   "metadata": {},
   "outputs": [],
   "source": [
    "address [18:23]"
   ]
  },
  {
   "cell_type": "code",
   "execution_count": null,
   "id": "17cbed76",
   "metadata": {},
   "outputs": [],
   "source": [
    "address [10:16]"
   ]
  },
  {
   "cell_type": "code",
   "execution_count": null,
   "id": "346c6d9f",
   "metadata": {},
   "outputs": [],
   "source": [
    "# taking steps\n",
    "numbers = \"123456789\"\n",
    "numbers [::2]"
   ]
  },
  {
   "cell_type": "code",
   "execution_count": null,
   "id": "6c125a95",
   "metadata": {},
   "outputs": [],
   "source": [
    "numbers = [1::2]"
   ]
  },
  {
   "cell_type": "code",
   "execution_count": null,
   "id": "a7a3abf5",
   "metadata": {},
   "outputs": [],
   "source": [
    "numbers[0:5:2]"
   ]
  },
  {
   "cell_type": "code",
   "execution_count": null,
   "id": "0d442602",
   "metadata": {},
   "outputs": [],
   "source": [
    "numbers [3::4]"
   ]
  },
  {
   "cell_type": "code",
   "execution_count": 16,
   "id": "f87f4fdb",
   "metadata": {},
   "outputs": [
    {
     "data": {
      "text/plain": [
       "'12345678'"
      ]
     },
     "execution_count": 16,
     "metadata": {},
     "output_type": "execute_result"
    }
   ],
   "source": [
    "data = \"1:A, 2:B, 3:C, 4:D, 5:E, 6:F, 7:G, 8:H\"\n",
    "data[::5]"
   ]
  },
  {
   "cell_type": "code",
   "execution_count": 14,
   "id": "174a6a81",
   "metadata": {},
   "outputs": [
    {
     "data": {
      "text/plain": [
       "'elaW'"
      ]
     },
     "execution_count": 14,
     "metadata": {},
     "output_type": "execute_result"
    }
   ],
   "source": [
    "sample = 'My Name is Wale'\n",
    "sample[:-5:-1]"
   ]
  },
  {
   "cell_type": "code",
   "execution_count": 17,
   "id": "7b996b38",
   "metadata": {},
   "outputs": [
    {
     "data": {
      "text/plain": [
       "'MY NAME IS WALE'"
      ]
     },
     "execution_count": 17,
     "metadata": {},
     "output_type": "execute_result"
    }
   ],
   "source": [
    "# string method\n",
    "# string are immutable\n",
    "\n",
    "sample = sample.upper()\n",
    "sample"
   ]
  },
  {
   "cell_type": "code",
   "execution_count": 18,
   "id": "e88535a9",
   "metadata": {},
   "outputs": [
    {
     "data": {
      "text/plain": [
       "'my name is wale'"
      ]
     },
     "execution_count": 18,
     "metadata": {},
     "output_type": "execute_result"
    }
   ],
   "source": [
    "sample.lower()"
   ]
  },
  {
   "cell_type": "code",
   "execution_count": 20,
   "id": "9dbf7f41",
   "metadata": {},
   "outputs": [
    {
     "data": {
      "text/plain": [
       "True"
      ]
     },
     "execution_count": 20,
     "metadata": {},
     "output_type": "execute_result"
    }
   ],
   "source": [
    "sample.endswith (\"E\")"
   ]
  },
  {
   "cell_type": "code",
   "execution_count": 21,
   "id": "c20d7b03",
   "metadata": {},
   "outputs": [
    {
     "data": {
      "text/plain": [
       "True"
      ]
     },
     "execution_count": 21,
     "metadata": {},
     "output_type": "execute_result"
    }
   ],
   "source": [
    "sample.startswith (\"M\")"
   ]
  },
  {
   "cell_type": "code",
   "execution_count": 22,
   "id": "2befcf07",
   "metadata": {},
   "outputs": [
    {
     "data": {
      "text/plain": [
       "2"
      ]
     },
     "execution_count": 22,
     "metadata": {},
     "output_type": "execute_result"
    }
   ],
   "source": [
    "sample.count(\"M\")"
   ]
  },
  {
   "cell_type": "code",
   "execution_count": 24,
   "id": "b61d0dd3",
   "metadata": {},
   "outputs": [
    {
     "data": {
      "text/plain": [
       "3"
      ]
     },
     "execution_count": 24,
     "metadata": {},
     "output_type": "execute_result"
    }
   ],
   "source": [
    "sample.find(\"NAME\")"
   ]
  },
  {
   "cell_type": "code",
   "execution_count": 25,
   "id": "861225d7",
   "metadata": {},
   "outputs": [
    {
     "data": {
      "text/plain": [
       "11"
      ]
     },
     "execution_count": 25,
     "metadata": {},
     "output_type": "execute_result"
    }
   ],
   "source": [
    "sample.find(\"WALE\")"
   ]
  },
  {
   "cell_type": "code",
   "execution_count": 26,
   "id": "567346dc",
   "metadata": {},
   "outputs": [
    {
     "data": {
      "text/plain": [
       "11"
      ]
     },
     "execution_count": 26,
     "metadata": {},
     "output_type": "execute_result"
    }
   ],
   "source": [
    "sample.index(\"WALE\")"
   ]
  },
  {
   "cell_type": "code",
   "execution_count": 27,
   "id": "d85ac791",
   "metadata": {},
   "outputs": [
    {
     "data": {
      "text/plain": [
       "['MY', 'NAME', 'IS', 'WALE']"
      ]
     },
     "execution_count": 27,
     "metadata": {},
     "output_type": "execute_result"
    }
   ],
   "source": [
    "sample.split()"
   ]
  },
  {
   "cell_type": "code",
   "execution_count": 28,
   "id": "77482d92",
   "metadata": {},
   "outputs": [
    {
     "data": {
      "text/plain": [
       "['MY', 'NAME', 'IS', 'WALE']"
      ]
     },
     "execution_count": 28,
     "metadata": {},
     "output_type": "execute_result"
    }
   ],
   "source": [
    "word = sample.split()\n",
    "word"
   ]
  },
  {
   "cell_type": "code",
   "execution_count": 30,
   "id": "1fb33857",
   "metadata": {},
   "outputs": [
    {
     "data": {
      "text/plain": [
       "'MY NAME IS WALE'"
      ]
     },
     "execution_count": 30,
     "metadata": {},
     "output_type": "execute_result"
    }
   ],
   "source": [
    "\" \".join(word)"
   ]
  },
  {
   "cell_type": "code",
   "execution_count": 33,
   "id": "f2e6aa0c",
   "metadata": {},
   "outputs": [
    {
     "data": {
      "text/plain": [
       "'MY NAME IS MARY'"
      ]
     },
     "execution_count": 33,
     "metadata": {},
     "output_type": "execute_result"
    }
   ],
   "source": [
    "sample.replace(\"WALE\", \"MARY\")"
   ]
  },
  {
   "cell_type": "code",
   "execution_count": 35,
   "id": "5fc4edf3",
   "metadata": {},
   "outputs": [],
   "source": [
    "name = \"      JOHN       \""
   ]
  },
  {
   "cell_type": "code",
   "execution_count": 36,
   "id": "d334f96b",
   "metadata": {},
   "outputs": [
    {
     "data": {
      "text/plain": [
       "'      JOHN'"
      ]
     },
     "execution_count": 36,
     "metadata": {},
     "output_type": "execute_result"
    }
   ],
   "source": [
    "name.rstrip()"
   ]
  },
  {
   "cell_type": "code",
   "execution_count": 37,
   "id": "300c35db",
   "metadata": {},
   "outputs": [
    {
     "data": {
      "text/plain": [
       "'JOHN       '"
      ]
     },
     "execution_count": 37,
     "metadata": {},
     "output_type": "execute_result"
    }
   ],
   "source": [
    "name.lstrip()"
   ]
  },
  {
   "cell_type": "code",
   "execution_count": 38,
   "id": "7bbb1646",
   "metadata": {},
   "outputs": [
    {
     "data": {
      "text/plain": [
       "'JOHN'"
      ]
     },
     "execution_count": 38,
     "metadata": {},
     "output_type": "execute_result"
    }
   ],
   "source": [
    "name.strip()"
   ]
  },
  {
   "cell_type": "code",
   "execution_count": 52,
   "id": "9dbdb540",
   "metadata": {},
   "outputs": [],
   "source": [
    "word = \"God is Here\""
   ]
  },
  {
   "cell_type": "code",
   "execution_count": 57,
   "id": "28fc9ddf",
   "metadata": {},
   "outputs": [
    {
     "data": {
      "text/plain": [
       "'Here is God'"
      ]
     },
     "execution_count": 57,
     "metadata": {},
     "output_type": "execute_result"
    }
   ],
   "source": [
    "\" \".join(word.split()[::-1])"
   ]
  },
  {
   "cell_type": "code",
   "execution_count": 58,
   "id": "b20c35c2",
   "metadata": {},
   "outputs": [
    {
     "data": {
      "text/plain": [
       "'Here is God'"
      ]
     },
     "execution_count": 58,
     "metadata": {},
     "output_type": "execute_result"
    }
   ],
   "source": [
    "word.replace(\"God is Here\", \"Here is God\")"
   ]
  },
  {
   "cell_type": "code",
   "execution_count": 62,
   "id": "5b18189d",
   "metadata": {},
   "outputs": [
    {
     "data": {
      "text/plain": [
       "'Mary'"
      ]
     },
     "execution_count": 62,
     "metadata": {},
     "output_type": "execute_result"
    }
   ],
   "source": [
    "# List data type\n",
    "# listd is for storing multiple data\n",
    "# it is  denoted by []\n",
    "# list are mutuable\n",
    "names = [\"wale\",\"Mary\",\"John\"]\n",
    "names[1]"
   ]
  },
  {
   "cell_type": "code",
   "execution_count": 66,
   "id": "aab7d26b",
   "metadata": {},
   "outputs": [
    {
     "data": {
      "text/plain": [
       "['wale', 'John']"
      ]
     },
     "execution_count": 66,
     "metadata": {},
     "output_type": "execute_result"
    }
   ],
   "source": [
    "# slicing a list\n",
    "names [1:3]\n",
    "names [0:3:2]"
   ]
  },
  {
   "cell_type": "code",
   "execution_count": 67,
   "id": "0586911b",
   "metadata": {},
   "outputs": [],
   "source": [
    "# listd methods\n",
    "\n",
    "# append adds new item at the end of the list\n",
    "names.append(\"Linda\")"
   ]
  },
  {
   "cell_type": "code",
   "execution_count": 68,
   "id": "1a78e2e5",
   "metadata": {},
   "outputs": [
    {
     "data": {
      "text/plain": [
       "['wale', 'Mary', 'John', 'Linda']"
      ]
     },
     "execution_count": 68,
     "metadata": {},
     "output_type": "execute_result"
    }
   ],
   "source": [
    "names"
   ]
  },
  {
   "cell_type": "code",
   "execution_count": 69,
   "id": "e56fd67b",
   "metadata": {},
   "outputs": [
    {
     "data": {
      "text/plain": [
       "['wale', 'Mary', 'John', 'Linda']"
      ]
     },
     "execution_count": 69,
     "metadata": {},
     "output_type": "execute_result"
    }
   ],
   "source": [
    "# copy will create a duplicate of your list\n",
    "new_names = names.copy()\n",
    "new_names"
   ]
  },
  {
   "cell_type": "code",
   "execution_count": 70,
   "id": "01a61617",
   "metadata": {},
   "outputs": [],
   "source": [
    "new_names.clear()"
   ]
  },
  {
   "cell_type": "code",
   "execution_count": 71,
   "id": "96471269",
   "metadata": {},
   "outputs": [
    {
     "data": {
      "text/plain": [
       "[]"
      ]
     },
     "execution_count": 71,
     "metadata": {},
     "output_type": "execute_result"
    }
   ],
   "source": [
    "new_names"
   ]
  },
  {
   "cell_type": "code",
   "execution_count": 72,
   "id": "64a49bbc",
   "metadata": {},
   "outputs": [
    {
     "data": {
      "text/plain": [
       "['wale', 'Mary', 'John', 'Linda']"
      ]
     },
     "execution_count": 72,
     "metadata": {},
     "output_type": "execute_result"
    }
   ],
   "source": [
    "names"
   ]
  },
  {
   "cell_type": "code",
   "execution_count": 73,
   "id": "46efd5ef",
   "metadata": {},
   "outputs": [
    {
     "data": {
      "text/plain": [
       "'Linda'"
      ]
     },
     "execution_count": 73,
     "metadata": {},
     "output_type": "execute_result"
    }
   ],
   "source": [
    "# pop removes last names\n",
    "names.pop()"
   ]
  },
  {
   "cell_type": "code",
   "execution_count": 74,
   "id": "3787b234",
   "metadata": {},
   "outputs": [
    {
     "data": {
      "text/plain": [
       "['wale', 'Mary', 'John']"
      ]
     },
     "execution_count": 74,
     "metadata": {},
     "output_type": "execute_result"
    }
   ],
   "source": [
    "names"
   ]
  },
  {
   "cell_type": "code",
   "execution_count": 75,
   "id": "8536066d",
   "metadata": {},
   "outputs": [],
   "source": [
    "# remove takes away any item you specify\n",
    "names.remove(\"Mary\")"
   ]
  },
  {
   "cell_type": "code",
   "execution_count": 76,
   "id": "f51410b5",
   "metadata": {},
   "outputs": [
    {
     "data": {
      "text/plain": [
       "['wale', 'John']"
      ]
     },
     "execution_count": 76,
     "metadata": {},
     "output_type": "execute_result"
    }
   ],
   "source": [
    "names"
   ]
  },
  {
   "cell_type": "code",
   "execution_count": 77,
   "id": "770772dd",
   "metadata": {},
   "outputs": [
    {
     "data": {
      "text/plain": [
       "'wale'"
      ]
     },
     "execution_count": 77,
     "metadata": {},
     "output_type": "execute_result"
    }
   ],
   "source": [
    "names.pop(0)"
   ]
  },
  {
   "cell_type": "code",
   "execution_count": 78,
   "id": "06ef0291",
   "metadata": {},
   "outputs": [
    {
     "data": {
      "text/plain": [
       "['John']"
      ]
     },
     "execution_count": 78,
     "metadata": {},
     "output_type": "execute_result"
    }
   ],
   "source": [
    "names"
   ]
  },
  {
   "cell_type": "code",
   "execution_count": 79,
   "id": "5d751da3",
   "metadata": {},
   "outputs": [],
   "source": [
    "names.extend([\"Mike\", \"Audu\", \"Bola\"])"
   ]
  },
  {
   "cell_type": "code",
   "execution_count": 80,
   "id": "e7dde247",
   "metadata": {},
   "outputs": [
    {
     "data": {
      "text/plain": [
       "['John', 'Mike', 'Audu', 'Bola']"
      ]
     },
     "execution_count": 80,
     "metadata": {},
     "output_type": "execute_result"
    }
   ],
   "source": [
    "names"
   ]
  },
  {
   "cell_type": "code",
   "execution_count": 81,
   "id": "0380a798",
   "metadata": {},
   "outputs": [],
   "source": [
    "# insert will add specified item in the specified index position\n",
    "names.insert(2,\"Christy\")"
   ]
  },
  {
   "cell_type": "code",
   "execution_count": 82,
   "id": "20b3e8b9",
   "metadata": {},
   "outputs": [
    {
     "data": {
      "text/plain": [
       "['John', 'Mike', 'Christy', 'Audu', 'Bola']"
      ]
     },
     "execution_count": 82,
     "metadata": {},
     "output_type": "execute_result"
    }
   ],
   "source": [
    "names"
   ]
  },
  {
   "cell_type": "code",
   "execution_count": 83,
   "id": "2dc542c8",
   "metadata": {},
   "outputs": [],
   "source": [
    "# sort will arrange items in ascending order\n",
    "names.sort()"
   ]
  },
  {
   "cell_type": "code",
   "execution_count": 84,
   "id": "e401c2f0",
   "metadata": {},
   "outputs": [
    {
     "data": {
      "text/plain": [
       "['Audu', 'Bola', 'Christy', 'John', 'Mike']"
      ]
     },
     "execution_count": 84,
     "metadata": {},
     "output_type": "execute_result"
    }
   ],
   "source": [
    "names"
   ]
  },
  {
   "cell_type": "code",
   "execution_count": 85,
   "id": "51d0f23f",
   "metadata": {},
   "outputs": [],
   "source": [
    "# reverse will arrange the items in desending order\n",
    "names.reverse()"
   ]
  },
  {
   "cell_type": "code",
   "execution_count": 86,
   "id": "a7d5fc7a",
   "metadata": {},
   "outputs": [
    {
     "data": {
      "text/plain": [
       "['Mike', 'John', 'Christy', 'Bola', 'Audu']"
      ]
     },
     "execution_count": 86,
     "metadata": {},
     "output_type": "execute_result"
    }
   ],
   "source": [
    "names"
   ]
  },
  {
   "cell_type": "code",
   "execution_count": 6,
   "id": "1752b129",
   "metadata": {},
   "outputs": [
    {
     "data": {
      "text/plain": [
       "54"
      ]
     },
     "execution_count": 6,
     "metadata": {},
     "output_type": "execute_result"
    }
   ],
   "source": [
    "student_score = [1,2,3,1,2,3,1,2,3,1,2,3,1,2,3,1,2,3,1,2,3,1,2,3,1,2,3,1,2,3,1,2,3,1,2,3,1,2,3,1,2,3,1,2,3,1,2,3,1,2,3,1,2,3,7,1,2,3,1,2,3,1,2,3,1,2,3,1,2,3,]\n",
    "# student_score[3] = 8\n",
    "# student_score\n",
    "\n",
    "student_score.index(7)\n",
    "student_score[54] = 8\n",
    "student_score.index(8)"
   ]
  },
  {
   "cell_type": "code",
   "execution_count": 8,
   "id": "efce4f2a",
   "metadata": {},
   "outputs": [],
   "source": [
    "num = '123456789'"
   ]
  },
  {
   "cell_type": "code",
   "execution_count": 9,
   "id": "8f0a18a9",
   "metadata": {},
   "outputs": [
    {
     "data": {
      "text/plain": [
       "'8765432'"
      ]
     },
     "execution_count": 9,
     "metadata": {},
     "output_type": "execute_result"
    }
   ],
   "source": [
    "num [-2:-9:-1]"
   ]
  },
  {
   "cell_type": "code",
   "execution_count": 27,
   "id": "5adfebe1",
   "metadata": {},
   "outputs": [
    {
     "data": {
      "text/plain": [
       "[10, 20, 6000, 7000, 30, 40]"
      ]
     },
     "execution_count": 27,
     "metadata": {},
     "output_type": "execute_result"
    }
   ],
   "source": [
    "# write a program to add item 7000 after 6000 in the following Python List\n",
    "\n",
    "data = [10, 20, 6000, 30, 40]\n",
    "data.insert(3,7000)\n",
    "data"
   ]
  },
  {
   "cell_type": "code",
   "execution_count": 26,
   "id": "603072bf",
   "metadata": {},
   "outputs": [
    {
     "data": {
      "text/plain": [
       "['a', 'b', 'f', 'g', 'h', 'i', 'j']"
      ]
     },
     "execution_count": 26,
     "metadata": {},
     "output_type": "execute_result"
    }
   ],
   "source": [
    "# you have given a nested list. Write a program to extend it by adding the sublist [\"h\", \"i\", \"j\"] in such a way that it will look like the following list\n",
    "info  = [\"a\", \"b\", \"f\", \"g\"]\n",
    "info.extend([\"h\",\"i\",\"j\"])\n",
    "info"
   ]
  },
  {
   "cell_type": "code",
   "execution_count": 28,
   "id": "dddd6f92",
   "metadata": {},
   "outputs": [
    {
     "data": {
      "text/plain": [
       "5"
      ]
     },
     "execution_count": 28,
     "metadata": {},
     "output_type": "execute_result"
    }
   ],
   "source": [
    "# nested list is a list inside another list\n",
    "\n",
    "data = [[1,2,3], [4,5,6],[1,2],9]\n",
    "data[1][1]"
   ]
  },
  {
   "cell_type": "code",
   "execution_count": 29,
   "id": "53e885a0",
   "metadata": {},
   "outputs": [
    {
     "data": {
      "text/plain": [
       "9"
      ]
     },
     "execution_count": 29,
     "metadata": {},
     "output_type": "execute_result"
    }
   ],
   "source": [
    "data[3]"
   ]
  },
  {
   "cell_type": "code",
   "execution_count": 62,
   "id": "4177ea9c",
   "metadata": {},
   "outputs": [
    {
     "data": {
      "text/plain": [
       "dict"
      ]
     },
     "execution_count": 62,
     "metadata": {},
     "output_type": "execute_result"
    }
   ],
   "source": [
    "# dictionary - is a key-value pair\n",
    "# denoted by {}\n",
    "# dictionary are unordered\n",
    "\n",
    "staff = {\"name\":\"wale\", \"age\":18}\n",
    "type(staff)"
   ]
  },
  {
   "cell_type": "code",
   "execution_count": 31,
   "id": "6bd2ff71",
   "metadata": {},
   "outputs": [
    {
     "data": {
      "text/plain": [
       "18"
      ]
     },
     "execution_count": 31,
     "metadata": {},
     "output_type": "execute_result"
    }
   ],
   "source": [
    "staff[\"age\"]"
   ]
  },
  {
   "cell_type": "code",
   "execution_count": 32,
   "id": "02b737c9",
   "metadata": {},
   "outputs": [
    {
     "data": {
      "text/plain": [
       "'wale'"
      ]
     },
     "execution_count": 32,
     "metadata": {},
     "output_type": "execute_result"
    }
   ],
   "source": [
    "staff[\"name\"]"
   ]
  },
  {
   "cell_type": "code",
   "execution_count": 33,
   "id": "6ed6881d",
   "metadata": {
    "scrolled": true
   },
   "outputs": [
    {
     "data": {
      "text/plain": [
       "'Ikeja'"
      ]
     },
     "execution_count": 33,
     "metadata": {},
     "output_type": "execute_result"
    }
   ],
   "source": [
    "emp = {\"address\":{\"street\":\"70c Allen\",\"city\":\"Ikeja\"}}\n",
    "emp[\"address\"][\"city\"]"
   ]
  },
  {
   "cell_type": "code",
   "execution_count": 36,
   "id": "40b35d2f",
   "metadata": {},
   "outputs": [],
   "source": [
    "employees = [{\"name\":\"wale\", \"age\":18},\n",
    "             {\"name\":\"Mary\", \"age\":30},\n",
    "             {\"name\":\"John\", \"age\":25}]"
   ]
  },
  {
   "cell_type": "code",
   "execution_count": 37,
   "id": "6a3ab144",
   "metadata": {},
   "outputs": [
    {
     "data": {
      "text/plain": [
       "'Mary'"
      ]
     },
     "execution_count": 37,
     "metadata": {},
     "output_type": "execute_result"
    }
   ],
   "source": [
    "employees[1][\"name\"]"
   ]
  },
  {
   "cell_type": "code",
   "execution_count": 38,
   "id": "77619263",
   "metadata": {},
   "outputs": [
    {
     "data": {
      "text/plain": [
       "'wale'"
      ]
     },
     "execution_count": 38,
     "metadata": {},
     "output_type": "execute_result"
    }
   ],
   "source": [
    "employees[0][\"name\"]"
   ]
  },
  {
   "cell_type": "code",
   "execution_count": 39,
   "id": "135101bc",
   "metadata": {},
   "outputs": [
    {
     "data": {
      "text/plain": [
       "'John'"
      ]
     },
     "execution_count": 39,
     "metadata": {},
     "output_type": "execute_result"
    }
   ],
   "source": [
    "employees[2][\"name\"]"
   ]
  },
  {
   "cell_type": "code",
   "execution_count": 40,
   "id": "7647a4f0",
   "metadata": {},
   "outputs": [
    {
     "data": {
      "text/plain": [
       "{'name': 'wale', 'age': 18}"
      ]
     },
     "execution_count": 40,
     "metadata": {},
     "output_type": "execute_result"
    }
   ],
   "source": [
    "employees[0]"
   ]
  },
  {
   "cell_type": "code",
   "execution_count": 41,
   "id": "ca45f28c",
   "metadata": {},
   "outputs": [],
   "source": [
    "record=['green',['red',[1,2,3,\"blue\"],6],4]"
   ]
  },
  {
   "cell_type": "code",
   "execution_count": 47,
   "id": "08eb7571",
   "metadata": {},
   "outputs": [
    {
     "data": {
      "text/plain": [
       "'blue'"
      ]
     },
     "execution_count": 47,
     "metadata": {},
     "output_type": "execute_result"
    }
   ],
   "source": [
    "record[1][1][3]"
   ]
  },
  {
   "cell_type": "code",
   "execution_count": 49,
   "id": "f95f548f",
   "metadata": {},
   "outputs": [
    {
     "data": {
      "text/plain": [
       "4"
      ]
     },
     "execution_count": 49,
     "metadata": {},
     "output_type": "execute_result"
    }
   ],
   "source": [
    "record[2]"
   ]
  },
  {
   "cell_type": "code",
   "execution_count": 50,
   "id": "ed02163e",
   "metadata": {},
   "outputs": [
    {
     "data": {
      "text/plain": [
       "'green'"
      ]
     },
     "execution_count": 50,
     "metadata": {},
     "output_type": "execute_result"
    }
   ],
   "source": [
    "record[0]"
   ]
  },
  {
   "cell_type": "code",
   "execution_count": 52,
   "id": "14fc642b",
   "metadata": {},
   "outputs": [
    {
     "data": {
      "text/plain": [
       "'wale'"
      ]
     },
     "execution_count": 52,
     "metadata": {},
     "output_type": "execute_result"
    }
   ],
   "source": [
    "# dictionary methods\n",
    "staff.get(\"name\")"
   ]
  },
  {
   "cell_type": "code",
   "execution_count": 53,
   "id": "a03149eb",
   "metadata": {},
   "outputs": [
    {
     "data": {
      "text/plain": [
       "dict_keys(['name', 'age'])"
      ]
     },
     "execution_count": 53,
     "metadata": {},
     "output_type": "execute_result"
    }
   ],
   "source": [
    "staff.keys()"
   ]
  },
  {
   "cell_type": "code",
   "execution_count": 55,
   "id": "2e1432ec",
   "metadata": {},
   "outputs": [
    {
     "data": {
      "text/plain": [
       "dict_values(['wale', 18])"
      ]
     },
     "execution_count": 55,
     "metadata": {},
     "output_type": "execute_result"
    }
   ],
   "source": [
    "staff.values()"
   ]
  },
  {
   "cell_type": "code",
   "execution_count": 57,
   "id": "1a95a4f8",
   "metadata": {},
   "outputs": [
    {
     "data": {
      "text/plain": [
       "'wale'"
      ]
     },
     "execution_count": 57,
     "metadata": {},
     "output_type": "execute_result"
    }
   ],
   "source": [
    "staff.pop(\"name\")"
   ]
  },
  {
   "cell_type": "code",
   "execution_count": 60,
   "id": "2f1cf3c4",
   "metadata": {},
   "outputs": [
    {
     "data": {
      "text/plain": [
       "dict_items([('age', 18)])"
      ]
     },
     "execution_count": 60,
     "metadata": {},
     "output_type": "execute_result"
    }
   ],
   "source": [
    "staff.items()"
   ]
  },
  {
   "cell_type": "code",
   "execution_count": 63,
   "id": "3dfca8fb",
   "metadata": {},
   "outputs": [
    {
     "data": {
      "text/plain": [
       "{'name': 'wale', 'age': 18}"
      ]
     },
     "execution_count": 63,
     "metadata": {},
     "output_type": "execute_result"
    }
   ],
   "source": [
    "staff"
   ]
  },
  {
   "cell_type": "code",
   "execution_count": 71,
   "id": "cbc9e04e",
   "metadata": {},
   "outputs": [],
   "source": [
    "# update add new items or update an existing value\n",
    "staff.update({\"name\":\"Mary\",\"age\":20})"
   ]
  },
  {
   "cell_type": "code",
   "execution_count": 66,
   "id": "1edf9eff",
   "metadata": {},
   "outputs": [
    {
     "data": {
      "text/plain": [
       "{'name': 'Mary', 'age': 20}"
      ]
     },
     "execution_count": 66,
     "metadata": {},
     "output_type": "execute_result"
    }
   ],
   "source": [
    "staff"
   ]
  },
  {
   "cell_type": "code",
   "execution_count": 68,
   "id": "f005e4db",
   "metadata": {},
   "outputs": [],
   "source": [
    "staff.update({\"age\":18})"
   ]
  },
  {
   "cell_type": "code",
   "execution_count": 69,
   "id": "020e171d",
   "metadata": {},
   "outputs": [
    {
     "data": {
      "text/plain": [
       "set"
      ]
     },
     "execution_count": 69,
     "metadata": {},
     "output_type": "execute_result"
    }
   ],
   "source": [
    "# sets data type\n",
    "# set is used to store unique values\n",
    "# it is denoted by {}\n",
    "\n",
    "data = {1,2}\n",
    "type(data)"
   ]
  },
  {
   "cell_type": "code",
   "execution_count": 70,
   "id": "1d5a7cbb",
   "metadata": {},
   "outputs": [
    {
     "data": {
      "text/plain": [
       "{1, 2, 3, 11}"
      ]
     },
     "execution_count": 70,
     "metadata": {},
     "output_type": "execute_result"
    }
   ],
   "source": [
    "info = {1,2,3,1,1,1,1,1,1,11,2,2,2,2,2,2}\n",
    "info"
   ]
  },
  {
   "cell_type": "code",
   "execution_count": 72,
   "id": "c0659da9",
   "metadata": {},
   "outputs": [],
   "source": [
    "info.add(6)"
   ]
  },
  {
   "cell_type": "code",
   "execution_count": 73,
   "id": "73d539d4",
   "metadata": {},
   "outputs": [
    {
     "data": {
      "text/plain": [
       "{1, 2, 3, 6, 11}"
      ]
     },
     "execution_count": 73,
     "metadata": {},
     "output_type": "execute_result"
    }
   ],
   "source": [
    "info"
   ]
  },
  {
   "cell_type": "code",
   "execution_count": 74,
   "id": "c8e7bb36",
   "metadata": {},
   "outputs": [],
   "source": [
    "x = {1,2,3}\n",
    "y = {3,4,5}"
   ]
  },
  {
   "cell_type": "code",
   "execution_count": 75,
   "id": "54026437",
   "metadata": {},
   "outputs": [
    {
     "data": {
      "text/plain": [
       "{3}"
      ]
     },
     "execution_count": 75,
     "metadata": {},
     "output_type": "execute_result"
    }
   ],
   "source": [
    "# intersection is what is common in both\n",
    "\n",
    "x.intersection(y)"
   ]
  },
  {
   "cell_type": "code",
   "execution_count": 78,
   "id": "603db969",
   "metadata": {},
   "outputs": [
    {
     "data": {
      "text/plain": [
       "{3}"
      ]
     },
     "execution_count": 78,
     "metadata": {},
     "output_type": "execute_result"
    }
   ],
   "source": [
    "y.intersection(x)"
   ]
  },
  {
   "cell_type": "code",
   "execution_count": 79,
   "id": "6050b993",
   "metadata": {},
   "outputs": [
    {
     "data": {
      "text/plain": [
       "{1, 2}"
      ]
     },
     "execution_count": 79,
     "metadata": {},
     "output_type": "execute_result"
    }
   ],
   "source": [
    "# difference gives what is in x that is not in y\n",
    "\n",
    "x.difference(y)"
   ]
  },
  {
   "cell_type": "code",
   "execution_count": 80,
   "id": "c4b0b5cd",
   "metadata": {},
   "outputs": [
    {
     "data": {
      "text/plain": [
       "{1, 2, 3, 4, 5}"
      ]
     },
     "execution_count": 80,
     "metadata": {},
     "output_type": "execute_result"
    }
   ],
   "source": [
    "# union combine both set togther without duplicate\n",
    "x.union(y)"
   ]
  },
  {
   "cell_type": "code",
   "execution_count": 81,
   "id": "3aa8823c",
   "metadata": {},
   "outputs": [
    {
     "data": {
      "text/plain": [
       "{1, 2, 4, 5}"
      ]
     },
     "execution_count": 81,
     "metadata": {},
     "output_type": "execute_result"
    }
   ],
   "source": [
    "# symmetric difference combine what is in x and not in y with what is in y and not in x \n",
    "x.symmetric_difference(y)"
   ]
  },
  {
   "cell_type": "code",
   "execution_count": 85,
   "id": "12dd6611",
   "metadata": {},
   "outputs": [],
   "source": [
    "# boolean data type\n",
    "# for storing True or False\n",
    "# true = 1, false = 0\n",
    "\n",
    "is_married = False"
   ]
  },
  {
   "cell_type": "code",
   "execution_count": 87,
   "id": "96ce1265",
   "metadata": {},
   "outputs": [],
   "source": [
    "# tuple data type is for storing immutable values\n",
    "# denoted by parathesis\n",
    "\n",
    "day_of_the_week = (\"mon\",\"tue\",\"wed\")"
   ]
  },
  {
   "cell_type": "code",
   "execution_count": 83,
   "id": "15dc2cee",
   "metadata": {},
   "outputs": [],
   "source": [
    "# numeric data type\n",
    "# integal, float, complex number\n",
    "\n",
    "age = 18   #integal\n",
    "salary = 500.123456  #float"
   ]
  },
  {
   "cell_type": "code",
   "execution_count": 84,
   "id": "4743f566",
   "metadata": {},
   "outputs": [
    {
     "name": "stdout",
     "output_type": "stream",
     "text": [
      "500.12\n"
     ]
    }
   ],
   "source": [
    "print(f\"%.2f\" %salary)"
   ]
  },
  {
   "cell_type": "code",
   "execution_count": 88,
   "id": "9f740ea7",
   "metadata": {},
   "outputs": [
    {
     "name": "stdout",
     "output_type": "stream",
     "text": [
      "500.123\n"
     ]
    }
   ],
   "source": [
    "print(f\"%.3f\" %salary)"
   ]
  },
  {
   "cell_type": "code",
   "execution_count": 1,
   "id": "0494e7e5",
   "metadata": {},
   "outputs": [],
   "source": [
    "# Assignment\n",
    "\n",
    "info = {\n",
    "    \"OrderDate\": [\"1/1/10\",\"1/2/10\",\"2/1/10\",\"3/1/10\",\"4/1/10\"],\n",
    "    \"Region\": [\"East\",\"West\",\"South\",\"South South\",\"Central\"],\n",
    "    \"Rep\": [\"James\",\"John\",\"Kelvin\",\"Jane\",\"Mary\"],\n",
    "    \"Item\":[\"Pencil\",\"Pen\",\"Pencil\",\"Pencil\",\"Pen\"],\n",
    "    \"Unit\":[95,50,36,27,58],\n",
    "    \"Cost\":[1.3,1.99,1.55,6.7,2.99]\n",
    "}"
   ]
  },
  {
   "cell_type": "code",
   "execution_count": 3,
   "id": "5887e413",
   "metadata": {},
   "outputs": [
    {
     "data": {
      "text/html": [
       "<div>\n",
       "<style scoped>\n",
       "    .dataframe tbody tr th:only-of-type {\n",
       "        vertical-align: middle;\n",
       "    }\n",
       "\n",
       "    .dataframe tbody tr th {\n",
       "        vertical-align: top;\n",
       "    }\n",
       "\n",
       "    .dataframe thead th {\n",
       "        text-align: right;\n",
       "    }\n",
       "</style>\n",
       "<table border=\"1\" class=\"dataframe\">\n",
       "  <thead>\n",
       "    <tr style=\"text-align: right;\">\n",
       "      <th></th>\n",
       "      <th>OrderDate</th>\n",
       "      <th>Region</th>\n",
       "      <th>Rep</th>\n",
       "      <th>Item</th>\n",
       "      <th>Unit</th>\n",
       "      <th>Cost</th>\n",
       "    </tr>\n",
       "  </thead>\n",
       "  <tbody>\n",
       "    <tr>\n",
       "      <th>0</th>\n",
       "      <td>1/1/10</td>\n",
       "      <td>East</td>\n",
       "      <td>James</td>\n",
       "      <td>Pencil</td>\n",
       "      <td>95</td>\n",
       "      <td>1.30</td>\n",
       "    </tr>\n",
       "    <tr>\n",
       "      <th>1</th>\n",
       "      <td>1/2/10</td>\n",
       "      <td>West</td>\n",
       "      <td>John</td>\n",
       "      <td>Pen</td>\n",
       "      <td>50</td>\n",
       "      <td>1.99</td>\n",
       "    </tr>\n",
       "    <tr>\n",
       "      <th>2</th>\n",
       "      <td>2/1/10</td>\n",
       "      <td>South</td>\n",
       "      <td>Kelvin</td>\n",
       "      <td>Pencil</td>\n",
       "      <td>36</td>\n",
       "      <td>1.55</td>\n",
       "    </tr>\n",
       "    <tr>\n",
       "      <th>3</th>\n",
       "      <td>3/1/10</td>\n",
       "      <td>South South</td>\n",
       "      <td>Jane</td>\n",
       "      <td>Pencil</td>\n",
       "      <td>27</td>\n",
       "      <td>6.70</td>\n",
       "    </tr>\n",
       "    <tr>\n",
       "      <th>4</th>\n",
       "      <td>4/1/10</td>\n",
       "      <td>Central</td>\n",
       "      <td>Mary</td>\n",
       "      <td>Pen</td>\n",
       "      <td>58</td>\n",
       "      <td>2.99</td>\n",
       "    </tr>\n",
       "  </tbody>\n",
       "</table>\n",
       "</div>"
      ],
      "text/plain": [
       "  OrderDate       Region     Rep    Item  Unit  Cost\n",
       "0    1/1/10         East   James  Pencil    95  1.30\n",
       "1    1/2/10         West    John     Pen    50  1.99\n",
       "2    2/1/10        South  Kelvin  Pencil    36  1.55\n",
       "3    3/1/10  South South    Jane  Pencil    27  6.70\n",
       "4    4/1/10      Central    Mary     Pen    58  2.99"
      ]
     },
     "execution_count": 3,
     "metadata": {},
     "output_type": "execute_result"
    }
   ],
   "source": [
    "import pandas as pd\n",
    "sample = pd.DataFrame(info)\n",
    "sample"
   ]
  },
  {
   "cell_type": "code",
   "execution_count": 4,
   "id": "2131922a",
   "metadata": {},
   "outputs": [
    {
     "data": {
      "text/html": [
       "<div>\n",
       "<style scoped>\n",
       "    .dataframe tbody tr th:only-of-type {\n",
       "        vertical-align: middle;\n",
       "    }\n",
       "\n",
       "    .dataframe tbody tr th {\n",
       "        vertical-align: top;\n",
       "    }\n",
       "\n",
       "    .dataframe thead th {\n",
       "        text-align: right;\n",
       "    }\n",
       "</style>\n",
       "<table border=\"1\" class=\"dataframe\">\n",
       "  <thead>\n",
       "    <tr style=\"text-align: right;\">\n",
       "      <th></th>\n",
       "      <th>OrderDate</th>\n",
       "      <th>Region</th>\n",
       "      <th>Rep</th>\n",
       "      <th>Item</th>\n",
       "      <th>Unit</th>\n",
       "      <th>Cost</th>\n",
       "      <th>Total</th>\n",
       "    </tr>\n",
       "  </thead>\n",
       "  <tbody>\n",
       "    <tr>\n",
       "      <th>0</th>\n",
       "      <td>1/1/10</td>\n",
       "      <td>East</td>\n",
       "      <td>James</td>\n",
       "      <td>Pencil</td>\n",
       "      <td>95</td>\n",
       "      <td>1.30</td>\n",
       "      <td>123.50</td>\n",
       "    </tr>\n",
       "    <tr>\n",
       "      <th>1</th>\n",
       "      <td>1/2/10</td>\n",
       "      <td>West</td>\n",
       "      <td>John</td>\n",
       "      <td>Pen</td>\n",
       "      <td>50</td>\n",
       "      <td>1.99</td>\n",
       "      <td>99.50</td>\n",
       "    </tr>\n",
       "    <tr>\n",
       "      <th>2</th>\n",
       "      <td>2/1/10</td>\n",
       "      <td>South</td>\n",
       "      <td>Kelvin</td>\n",
       "      <td>Pencil</td>\n",
       "      <td>36</td>\n",
       "      <td>1.55</td>\n",
       "      <td>55.80</td>\n",
       "    </tr>\n",
       "    <tr>\n",
       "      <th>3</th>\n",
       "      <td>3/1/10</td>\n",
       "      <td>South South</td>\n",
       "      <td>Jane</td>\n",
       "      <td>Pencil</td>\n",
       "      <td>27</td>\n",
       "      <td>6.70</td>\n",
       "      <td>180.90</td>\n",
       "    </tr>\n",
       "    <tr>\n",
       "      <th>4</th>\n",
       "      <td>4/1/10</td>\n",
       "      <td>Central</td>\n",
       "      <td>Mary</td>\n",
       "      <td>Pen</td>\n",
       "      <td>58</td>\n",
       "      <td>2.99</td>\n",
       "      <td>173.42</td>\n",
       "    </tr>\n",
       "  </tbody>\n",
       "</table>\n",
       "</div>"
      ],
      "text/plain": [
       "  OrderDate       Region     Rep    Item  Unit  Cost   Total\n",
       "0    1/1/10         East   James  Pencil    95  1.30  123.50\n",
       "1    1/2/10         West    John     Pen    50  1.99   99.50\n",
       "2    2/1/10        South  Kelvin  Pencil    36  1.55   55.80\n",
       "3    3/1/10  South South    Jane  Pencil    27  6.70  180.90\n",
       "4    4/1/10      Central    Mary     Pen    58  2.99  173.42"
      ]
     },
     "execution_count": 4,
     "metadata": {},
     "output_type": "execute_result"
    }
   ],
   "source": [
    "sample[\"Total\"] = sample[\"Unit\"] * sample[\"Cost\"]\n",
    "sample"
   ]
  },
  {
   "cell_type": "code",
   "execution_count": null,
   "id": "85f8303b",
   "metadata": {},
   "outputs": [],
   "source": [
    "sample.to_csv(\"sample.csv\", index=False)"
   ]
  },
  {
   "cell_type": "code",
   "execution_count": null,
   "id": "1dc62c41",
   "metadata": {},
   "outputs": [],
   "source": [
    "wc = pd.read_html(\"https://en.wikipedia.org/wiki/FIFA_World_Cup\")[4]\n",
    "wc.to_csv(\"world-cup.csv\",index=False)"
   ]
  },
  {
   "cell_type": "code",
   "execution_count": 6,
   "id": "78a9b561",
   "metadata": {},
   "outputs": [
    {
     "data": {
      "text/html": [
       "<div>\n",
       "<style scoped>\n",
       "    .dataframe tbody tr th:only-of-type {\n",
       "        vertical-align: middle;\n",
       "    }\n",
       "\n",
       "    .dataframe tbody tr th {\n",
       "        vertical-align: top;\n",
       "    }\n",
       "\n",
       "    .dataframe thead th {\n",
       "        text-align: right;\n",
       "    }\n",
       "</style>\n",
       "<table border=\"1\" class=\"dataframe\">\n",
       "  <thead>\n",
       "    <tr style=\"text-align: right;\">\n",
       "      <th></th>\n",
       "      <th>No.</th>\n",
       "      <th>Name</th>\n",
       "      <th>Net worth (USD)</th>\n",
       "      <th>Age</th>\n",
       "      <th>Nationality</th>\n",
       "      <th>Primary source(s) of wealth</th>\n",
       "    </tr>\n",
       "  </thead>\n",
       "  <tbody>\n",
       "    <tr>\n",
       "      <th>0</th>\n",
       "      <td>1</td>\n",
       "      <td>Bernard Arnault &amp; family</td>\n",
       "      <td>$211 billion</td>\n",
       "      <td>74</td>\n",
       "      <td>France</td>\n",
       "      <td>LVMH</td>\n",
       "    </tr>\n",
       "    <tr>\n",
       "      <th>1</th>\n",
       "      <td>2</td>\n",
       "      <td>Elon Musk</td>\n",
       "      <td>$180 billion</td>\n",
       "      <td>51</td>\n",
       "      <td>South Africa  Canada  United States</td>\n",
       "      <td>Tesla, SpaceX, Twitter (Currently X)</td>\n",
       "    </tr>\n",
       "    <tr>\n",
       "      <th>2</th>\n",
       "      <td>3</td>\n",
       "      <td>Jeff Bezos</td>\n",
       "      <td>$114 billion</td>\n",
       "      <td>59</td>\n",
       "      <td>United States</td>\n",
       "      <td>Amazon</td>\n",
       "    </tr>\n",
       "    <tr>\n",
       "      <th>3</th>\n",
       "      <td>4</td>\n",
       "      <td>Larry Ellison</td>\n",
       "      <td>$107 billion</td>\n",
       "      <td>78</td>\n",
       "      <td>United States</td>\n",
       "      <td>Oracle Corporation</td>\n",
       "    </tr>\n",
       "    <tr>\n",
       "      <th>4</th>\n",
       "      <td>5</td>\n",
       "      <td>Warren Buffett</td>\n",
       "      <td>$106 billion</td>\n",
       "      <td>92</td>\n",
       "      <td>United States</td>\n",
       "      <td>Berkshire Hathaway</td>\n",
       "    </tr>\n",
       "    <tr>\n",
       "      <th>5</th>\n",
       "      <td>6</td>\n",
       "      <td>Bill Gates</td>\n",
       "      <td>$104 billion</td>\n",
       "      <td>67</td>\n",
       "      <td>United States</td>\n",
       "      <td>Microsoft</td>\n",
       "    </tr>\n",
       "    <tr>\n",
       "      <th>6</th>\n",
       "      <td>7</td>\n",
       "      <td>Michael Bloomberg</td>\n",
       "      <td>$94.5 billion</td>\n",
       "      <td>81</td>\n",
       "      <td>United States</td>\n",
       "      <td>Bloomberg L.P.</td>\n",
       "    </tr>\n",
       "    <tr>\n",
       "      <th>7</th>\n",
       "      <td>8</td>\n",
       "      <td>Carlos Slim &amp; family</td>\n",
       "      <td>$93 billion</td>\n",
       "      <td>83</td>\n",
       "      <td>Mexico</td>\n",
       "      <td>Telmex, América Móvil, Grupo Carso</td>\n",
       "    </tr>\n",
       "    <tr>\n",
       "      <th>8</th>\n",
       "      <td>9</td>\n",
       "      <td>Mukesh Ambani</td>\n",
       "      <td>$83.4 billion</td>\n",
       "      <td>65</td>\n",
       "      <td>India</td>\n",
       "      <td>Reliance Industries</td>\n",
       "    </tr>\n",
       "    <tr>\n",
       "      <th>9</th>\n",
       "      <td>10</td>\n",
       "      <td>Steve Ballmer</td>\n",
       "      <td>$80.7 billion</td>\n",
       "      <td>67</td>\n",
       "      <td>United States</td>\n",
       "      <td>Microsoft</td>\n",
       "    </tr>\n",
       "  </tbody>\n",
       "</table>\n",
       "</div>"
      ],
      "text/plain": [
       "   No.                      Name Net worth (USD)  Age  \\\n",
       "0    1  Bernard Arnault & family    $211 billion   74   \n",
       "1    2                 Elon Musk    $180 billion   51   \n",
       "2    3                Jeff Bezos    $114 billion   59   \n",
       "3    4             Larry Ellison    $107 billion   78   \n",
       "4    5            Warren Buffett    $106 billion   92   \n",
       "5    6                Bill Gates    $104 billion   67   \n",
       "6    7         Michael Bloomberg   $94.5 billion   81   \n",
       "7    8      Carlos Slim & family     $93 billion   83   \n",
       "8    9             Mukesh Ambani   $83.4 billion   65   \n",
       "9   10             Steve Ballmer   $80.7 billion   67   \n",
       "\n",
       "                           Nationality           Primary source(s) of wealth  \n",
       "0                               France                                  LVMH  \n",
       "1  South Africa  Canada  United States  Tesla, SpaceX, Twitter (Currently X)  \n",
       "2                        United States                                Amazon  \n",
       "3                        United States                    Oracle Corporation  \n",
       "4                        United States                    Berkshire Hathaway  \n",
       "5                        United States                             Microsoft  \n",
       "6                        United States                        Bloomberg L.P.  \n",
       "7                               Mexico    Telmex, América Móvil, Grupo Carso  \n",
       "8                                India                   Reliance Industries  \n",
       "9                        United States                             Microsoft  "
      ]
     },
     "execution_count": 6,
     "metadata": {},
     "output_type": "execute_result"
    }
   ],
   "source": [
    "data = pd.read_html(\"https://en.wikipedia.org/wiki/The_World%27s_Billionaires\")[2]\n",
    "data"
   ]
  },
  {
   "cell_type": "code",
   "execution_count": 9,
   "id": "7a02f665",
   "metadata": {},
   "outputs": [
    {
     "data": {
      "text/html": [
       "<div>\n",
       "<style scoped>\n",
       "    .dataframe tbody tr th:only-of-type {\n",
       "        vertical-align: middle;\n",
       "    }\n",
       "\n",
       "    .dataframe tbody tr th {\n",
       "        vertical-align: top;\n",
       "    }\n",
       "\n",
       "    .dataframe thead th {\n",
       "        text-align: right;\n",
       "    }\n",
       "</style>\n",
       "<table border=\"1\" class=\"dataframe\">\n",
       "  <thead>\n",
       "    <tr style=\"text-align: right;\">\n",
       "      <th></th>\n",
       "      <th>No.</th>\n",
       "      <th>Name</th>\n",
       "      <th>Net worth (USD)</th>\n",
       "      <th>Age</th>\n",
       "      <th>Nationality</th>\n",
       "      <th>Primary source(s) of wealth</th>\n",
       "    </tr>\n",
       "  </thead>\n",
       "  <tbody>\n",
       "    <tr>\n",
       "      <th>0</th>\n",
       "      <td>1</td>\n",
       "      <td>Bernard Arnault &amp; family</td>\n",
       "      <td>$211 billion</td>\n",
       "      <td>74</td>\n",
       "      <td>France</td>\n",
       "      <td>LVMH</td>\n",
       "    </tr>\n",
       "    <tr>\n",
       "      <th>1</th>\n",
       "      <td>2</td>\n",
       "      <td>Elon Musk</td>\n",
       "      <td>$180 billion</td>\n",
       "      <td>51</td>\n",
       "      <td>South Africa  Canada  United States</td>\n",
       "      <td>Tesla, SpaceX, Twitter (Currently X)</td>\n",
       "    </tr>\n",
       "    <tr>\n",
       "      <th>2</th>\n",
       "      <td>3</td>\n",
       "      <td>Jeff Bezos</td>\n",
       "      <td>$114 billion</td>\n",
       "      <td>59</td>\n",
       "      <td>United States</td>\n",
       "      <td>Amazon</td>\n",
       "    </tr>\n",
       "  </tbody>\n",
       "</table>\n",
       "</div>"
      ],
      "text/plain": [
       "   No.                      Name Net worth (USD)  Age  \\\n",
       "0    1  Bernard Arnault & family    $211 billion   74   \n",
       "1    2                 Elon Musk    $180 billion   51   \n",
       "2    3                Jeff Bezos    $114 billion   59   \n",
       "\n",
       "                           Nationality           Primary source(s) of wealth  \n",
       "0                               France                                  LVMH  \n",
       "1  South Africa  Canada  United States  Tesla, SpaceX, Twitter (Currently X)  \n",
       "2                        United States                                Amazon  "
      ]
     },
     "execution_count": 9,
     "metadata": {},
     "output_type": "execute_result"
    }
   ],
   "source": [
    "new_person = data[0:3]\n",
    "new_person"
   ]
  },
  {
   "cell_type": "code",
   "execution_count": 11,
   "id": "cdfa24f4",
   "metadata": {},
   "outputs": [
    {
     "data": {
      "text/html": [
       "<div>\n",
       "<style scoped>\n",
       "    .dataframe tbody tr th:only-of-type {\n",
       "        vertical-align: middle;\n",
       "    }\n",
       "\n",
       "    .dataframe tbody tr th {\n",
       "        vertical-align: top;\n",
       "    }\n",
       "\n",
       "    .dataframe thead th {\n",
       "        text-align: right;\n",
       "    }\n",
       "</style>\n",
       "<table border=\"1\" class=\"dataframe\">\n",
       "  <thead>\n",
       "    <tr style=\"text-align: right;\">\n",
       "      <th></th>\n",
       "      <th>No.</th>\n",
       "      <th>Name</th>\n",
       "      <th>Net worth (USD)</th>\n",
       "      <th>Age</th>\n",
       "      <th>Nationality</th>\n",
       "      <th>Primary source(s) of wealth</th>\n",
       "    </tr>\n",
       "  </thead>\n",
       "  <tbody>\n",
       "    <tr>\n",
       "      <th>0</th>\n",
       "      <td>1</td>\n",
       "      <td>Bernard Arnault &amp; family</td>\n",
       "      <td>$211 billion</td>\n",
       "      <td>74</td>\n",
       "      <td>France</td>\n",
       "      <td>LVMH</td>\n",
       "    </tr>\n",
       "    <tr>\n",
       "      <th>1</th>\n",
       "      <td>2</td>\n",
       "      <td>Elon Musk</td>\n",
       "      <td>$180 billion</td>\n",
       "      <td>51</td>\n",
       "      <td>South Africa  Canada  United States</td>\n",
       "      <td>Tesla, SpaceX, Twitter (Currently X)</td>\n",
       "    </tr>\n",
       "    <tr>\n",
       "      <th>2</th>\n",
       "      <td>3</td>\n",
       "      <td>Jeff Bezos</td>\n",
       "      <td>$114 billion</td>\n",
       "      <td>59</td>\n",
       "      <td>United States</td>\n",
       "      <td>Amazon</td>\n",
       "    </tr>\n",
       "    <tr>\n",
       "      <th>3</th>\n",
       "      <td>4</td>\n",
       "      <td>Larry Ellison</td>\n",
       "      <td>$107 billion</td>\n",
       "      <td>78</td>\n",
       "      <td>United States</td>\n",
       "      <td>Oracle Corporation</td>\n",
       "    </tr>\n",
       "    <tr>\n",
       "      <th>4</th>\n",
       "      <td>5</td>\n",
       "      <td>Warren Buffett</td>\n",
       "      <td>$106 billion</td>\n",
       "      <td>92</td>\n",
       "      <td>United States</td>\n",
       "      <td>Berkshire Hathaway</td>\n",
       "    </tr>\n",
       "    <tr>\n",
       "      <th>5</th>\n",
       "      <td>6</td>\n",
       "      <td>Bill Gates</td>\n",
       "      <td>$104 billion</td>\n",
       "      <td>67</td>\n",
       "      <td>United States</td>\n",
       "      <td>Microsoft</td>\n",
       "    </tr>\n",
       "    <tr>\n",
       "      <th>6</th>\n",
       "      <td>7</td>\n",
       "      <td>Michael Bloomberg</td>\n",
       "      <td>$94.5 billion</td>\n",
       "      <td>81</td>\n",
       "      <td>United States</td>\n",
       "      <td>Bloomberg L.P.</td>\n",
       "    </tr>\n",
       "    <tr>\n",
       "      <th>7</th>\n",
       "      <td>8</td>\n",
       "      <td>Carlos Slim &amp; family</td>\n",
       "      <td>$93 billion</td>\n",
       "      <td>83</td>\n",
       "      <td>Mexico</td>\n",
       "      <td>Telmex, América Móvil, Grupo Carso</td>\n",
       "    </tr>\n",
       "    <tr>\n",
       "      <th>8</th>\n",
       "      <td>9</td>\n",
       "      <td>Mukesh Ambani</td>\n",
       "      <td>$83.4 billion</td>\n",
       "      <td>65</td>\n",
       "      <td>India</td>\n",
       "      <td>Reliance Industries</td>\n",
       "    </tr>\n",
       "    <tr>\n",
       "      <th>9</th>\n",
       "      <td>10</td>\n",
       "      <td>Steve Ballmer</td>\n",
       "      <td>$80.7 billion</td>\n",
       "      <td>67</td>\n",
       "      <td>United States</td>\n",
       "      <td>Microsoft</td>\n",
       "    </tr>\n",
       "    <tr>\n",
       "      <th>0</th>\n",
       "      <td>1</td>\n",
       "      <td>Bernard Arnault &amp; family</td>\n",
       "      <td>$211 billion</td>\n",
       "      <td>74</td>\n",
       "      <td>France</td>\n",
       "      <td>LVMH</td>\n",
       "    </tr>\n",
       "    <tr>\n",
       "      <th>1</th>\n",
       "      <td>2</td>\n",
       "      <td>Elon Musk</td>\n",
       "      <td>$180 billion</td>\n",
       "      <td>51</td>\n",
       "      <td>South Africa  Canada  United States</td>\n",
       "      <td>Tesla, SpaceX, Twitter (Currently X)</td>\n",
       "    </tr>\n",
       "    <tr>\n",
       "      <th>2</th>\n",
       "      <td>3</td>\n",
       "      <td>Jeff Bezos</td>\n",
       "      <td>$114 billion</td>\n",
       "      <td>59</td>\n",
       "      <td>United States</td>\n",
       "      <td>Amazon</td>\n",
       "    </tr>\n",
       "  </tbody>\n",
       "</table>\n",
       "</div>"
      ],
      "text/plain": [
       "   No.                      Name Net worth (USD)  Age  \\\n",
       "0    1  Bernard Arnault & family    $211 billion   74   \n",
       "1    2                 Elon Musk    $180 billion   51   \n",
       "2    3                Jeff Bezos    $114 billion   59   \n",
       "3    4             Larry Ellison    $107 billion   78   \n",
       "4    5            Warren Buffett    $106 billion   92   \n",
       "5    6                Bill Gates    $104 billion   67   \n",
       "6    7         Michael Bloomberg   $94.5 billion   81   \n",
       "7    8      Carlos Slim & family     $93 billion   83   \n",
       "8    9             Mukesh Ambani   $83.4 billion   65   \n",
       "9   10             Steve Ballmer   $80.7 billion   67   \n",
       "0    1  Bernard Arnault & family    $211 billion   74   \n",
       "1    2                 Elon Musk    $180 billion   51   \n",
       "2    3                Jeff Bezos    $114 billion   59   \n",
       "\n",
       "                           Nationality           Primary source(s) of wealth  \n",
       "0                               France                                  LVMH  \n",
       "1  South Africa  Canada  United States  Tesla, SpaceX, Twitter (Currently X)  \n",
       "2                        United States                                Amazon  \n",
       "3                        United States                    Oracle Corporation  \n",
       "4                        United States                    Berkshire Hathaway  \n",
       "5                        United States                             Microsoft  \n",
       "6                        United States                        Bloomberg L.P.  \n",
       "7                               Mexico    Telmex, América Móvil, Grupo Carso  \n",
       "8                                India                   Reliance Industries  \n",
       "9                        United States                             Microsoft  \n",
       "0                               France                                  LVMH  \n",
       "1  South Africa  Canada  United States  Tesla, SpaceX, Twitter (Currently X)  \n",
       "2                        United States                                Amazon  "
      ]
     },
     "execution_count": 11,
     "metadata": {},
     "output_type": "execute_result"
    }
   ],
   "source": [
    "pd.concat([data,new_person])"
   ]
  },
  {
   "cell_type": "code",
   "execution_count": 12,
   "id": "c3a1e4ef",
   "metadata": {},
   "outputs": [
    {
     "data": {
      "text/html": [
       "<div>\n",
       "<style scoped>\n",
       "    .dataframe tbody tr th:only-of-type {\n",
       "        vertical-align: middle;\n",
       "    }\n",
       "\n",
       "    .dataframe tbody tr th {\n",
       "        vertical-align: top;\n",
       "    }\n",
       "\n",
       "    .dataframe thead th {\n",
       "        text-align: right;\n",
       "    }\n",
       "</style>\n",
       "<table border=\"1\" class=\"dataframe\">\n",
       "  <thead>\n",
       "    <tr style=\"text-align: right;\">\n",
       "      <th></th>\n",
       "      <th>No.</th>\n",
       "      <th>Name</th>\n",
       "      <th>Net worth (USD)</th>\n",
       "      <th>Age</th>\n",
       "      <th>Nationality</th>\n",
       "      <th>Primary source(s) of wealth</th>\n",
       "    </tr>\n",
       "  </thead>\n",
       "  <tbody>\n",
       "    <tr>\n",
       "      <th>0</th>\n",
       "      <td>1</td>\n",
       "      <td>Bernard Arnault &amp; family</td>\n",
       "      <td>$211 billion</td>\n",
       "      <td>74</td>\n",
       "      <td>France</td>\n",
       "      <td>LVMH</td>\n",
       "    </tr>\n",
       "    <tr>\n",
       "      <th>1</th>\n",
       "      <td>2</td>\n",
       "      <td>Elon Musk</td>\n",
       "      <td>$180 billion</td>\n",
       "      <td>51</td>\n",
       "      <td>South Africa  Canada  United States</td>\n",
       "      <td>Tesla, SpaceX, Twitter (Currently X)</td>\n",
       "    </tr>\n",
       "    <tr>\n",
       "      <th>2</th>\n",
       "      <td>3</td>\n",
       "      <td>Jeff Bezos</td>\n",
       "      <td>$114 billion</td>\n",
       "      <td>59</td>\n",
       "      <td>United States</td>\n",
       "      <td>Amazon</td>\n",
       "    </tr>\n",
       "    <tr>\n",
       "      <th>3</th>\n",
       "      <td>4</td>\n",
       "      <td>Larry Ellison</td>\n",
       "      <td>$107 billion</td>\n",
       "      <td>78</td>\n",
       "      <td>United States</td>\n",
       "      <td>Oracle Corporation</td>\n",
       "    </tr>\n",
       "    <tr>\n",
       "      <th>4</th>\n",
       "      <td>5</td>\n",
       "      <td>Warren Buffett</td>\n",
       "      <td>$106 billion</td>\n",
       "      <td>92</td>\n",
       "      <td>United States</td>\n",
       "      <td>Berkshire Hathaway</td>\n",
       "    </tr>\n",
       "    <tr>\n",
       "      <th>5</th>\n",
       "      <td>6</td>\n",
       "      <td>Bill Gates</td>\n",
       "      <td>$104 billion</td>\n",
       "      <td>67</td>\n",
       "      <td>United States</td>\n",
       "      <td>Microsoft</td>\n",
       "    </tr>\n",
       "    <tr>\n",
       "      <th>6</th>\n",
       "      <td>7</td>\n",
       "      <td>Michael Bloomberg</td>\n",
       "      <td>$94.5 billion</td>\n",
       "      <td>81</td>\n",
       "      <td>United States</td>\n",
       "      <td>Bloomberg L.P.</td>\n",
       "    </tr>\n",
       "    <tr>\n",
       "      <th>7</th>\n",
       "      <td>8</td>\n",
       "      <td>Carlos Slim &amp; family</td>\n",
       "      <td>$93 billion</td>\n",
       "      <td>83</td>\n",
       "      <td>Mexico</td>\n",
       "      <td>Telmex, América Móvil, Grupo Carso</td>\n",
       "    </tr>\n",
       "    <tr>\n",
       "      <th>8</th>\n",
       "      <td>9</td>\n",
       "      <td>Mukesh Ambani</td>\n",
       "      <td>$83.4 billion</td>\n",
       "      <td>65</td>\n",
       "      <td>India</td>\n",
       "      <td>Reliance Industries</td>\n",
       "    </tr>\n",
       "    <tr>\n",
       "      <th>9</th>\n",
       "      <td>10</td>\n",
       "      <td>Steve Ballmer</td>\n",
       "      <td>$80.7 billion</td>\n",
       "      <td>67</td>\n",
       "      <td>United States</td>\n",
       "      <td>Microsoft</td>\n",
       "    </tr>\n",
       "    <tr>\n",
       "      <th>10</th>\n",
       "      <td>1</td>\n",
       "      <td>Bernard Arnault &amp; family</td>\n",
       "      <td>$211 billion</td>\n",
       "      <td>74</td>\n",
       "      <td>France</td>\n",
       "      <td>LVMH</td>\n",
       "    </tr>\n",
       "    <tr>\n",
       "      <th>11</th>\n",
       "      <td>2</td>\n",
       "      <td>Elon Musk</td>\n",
       "      <td>$180 billion</td>\n",
       "      <td>51</td>\n",
       "      <td>South Africa  Canada  United States</td>\n",
       "      <td>Tesla, SpaceX, Twitter (Currently X)</td>\n",
       "    </tr>\n",
       "    <tr>\n",
       "      <th>12</th>\n",
       "      <td>3</td>\n",
       "      <td>Jeff Bezos</td>\n",
       "      <td>$114 billion</td>\n",
       "      <td>59</td>\n",
       "      <td>United States</td>\n",
       "      <td>Amazon</td>\n",
       "    </tr>\n",
       "  </tbody>\n",
       "</table>\n",
       "</div>"
      ],
      "text/plain": [
       "    No.                      Name Net worth (USD)  Age  \\\n",
       "0     1  Bernard Arnault & family    $211 billion   74   \n",
       "1     2                 Elon Musk    $180 billion   51   \n",
       "2     3                Jeff Bezos    $114 billion   59   \n",
       "3     4             Larry Ellison    $107 billion   78   \n",
       "4     5            Warren Buffett    $106 billion   92   \n",
       "5     6                Bill Gates    $104 billion   67   \n",
       "6     7         Michael Bloomberg   $94.5 billion   81   \n",
       "7     8      Carlos Slim & family     $93 billion   83   \n",
       "8     9             Mukesh Ambani   $83.4 billion   65   \n",
       "9    10             Steve Ballmer   $80.7 billion   67   \n",
       "10    1  Bernard Arnault & family    $211 billion   74   \n",
       "11    2                 Elon Musk    $180 billion   51   \n",
       "12    3                Jeff Bezos    $114 billion   59   \n",
       "\n",
       "                            Nationality           Primary source(s) of wealth  \n",
       "0                                France                                  LVMH  \n",
       "1   South Africa  Canada  United States  Tesla, SpaceX, Twitter (Currently X)  \n",
       "2                         United States                                Amazon  \n",
       "3                         United States                    Oracle Corporation  \n",
       "4                         United States                    Berkshire Hathaway  \n",
       "5                         United States                             Microsoft  \n",
       "6                         United States                        Bloomberg L.P.  \n",
       "7                                Mexico    Telmex, América Móvil, Grupo Carso  \n",
       "8                                 India                   Reliance Industries  \n",
       "9                         United States                             Microsoft  \n",
       "10                               France                                  LVMH  \n",
       "11  South Africa  Canada  United States  Tesla, SpaceX, Twitter (Currently X)  \n",
       "12                        United States                                Amazon  "
      ]
     },
     "execution_count": 12,
     "metadata": {},
     "output_type": "execute_result"
    }
   ],
   "source": [
    "pd.concat([data,new_person],ignore_index=True)"
   ]
  },
  {
   "cell_type": "code",
   "execution_count": 14,
   "id": "d4451b8a",
   "metadata": {},
   "outputs": [
    {
     "data": {
      "text/html": [
       "<div>\n",
       "<style scoped>\n",
       "    .dataframe tbody tr th:only-of-type {\n",
       "        vertical-align: middle;\n",
       "    }\n",
       "\n",
       "    .dataframe tbody tr th {\n",
       "        vertical-align: top;\n",
       "    }\n",
       "\n",
       "    .dataframe thead th {\n",
       "        text-align: right;\n",
       "    }\n",
       "</style>\n",
       "<table border=\"1\" class=\"dataframe\">\n",
       "  <thead>\n",
       "    <tr style=\"text-align: right;\">\n",
       "      <th></th>\n",
       "      <th>No.</th>\n",
       "      <th>Name</th>\n",
       "      <th>Net worth (USD)</th>\n",
       "      <th>Age</th>\n",
       "      <th>Nationality</th>\n",
       "      <th>Primary source(s) of wealth</th>\n",
       "    </tr>\n",
       "  </thead>\n",
       "  <tbody>\n",
       "    <tr>\n",
       "      <th>0</th>\n",
       "      <td>1</td>\n",
       "      <td>Bernard Arnault &amp; family</td>\n",
       "      <td>$211 billion</td>\n",
       "      <td>74</td>\n",
       "      <td>France</td>\n",
       "      <td>LVMH</td>\n",
       "    </tr>\n",
       "    <tr>\n",
       "      <th>1</th>\n",
       "      <td>2</td>\n",
       "      <td>Elon Musk</td>\n",
       "      <td>$180 billion</td>\n",
       "      <td>51</td>\n",
       "      <td>South Africa  Canada  United States</td>\n",
       "      <td>Tesla, SpaceX, Twitter (Currently X)</td>\n",
       "    </tr>\n",
       "    <tr>\n",
       "      <th>2</th>\n",
       "      <td>3</td>\n",
       "      <td>Jeff Bezos</td>\n",
       "      <td>$114 billion</td>\n",
       "      <td>59</td>\n",
       "      <td>United States</td>\n",
       "      <td>Amazon</td>\n",
       "    </tr>\n",
       "    <tr>\n",
       "      <th>3</th>\n",
       "      <td>4</td>\n",
       "      <td>Larry Ellison</td>\n",
       "      <td>$107 billion</td>\n",
       "      <td>78</td>\n",
       "      <td>United States</td>\n",
       "      <td>Oracle Corporation</td>\n",
       "    </tr>\n",
       "    <tr>\n",
       "      <th>4</th>\n",
       "      <td>5</td>\n",
       "      <td>Warren Buffett</td>\n",
       "      <td>$106 billion</td>\n",
       "      <td>92</td>\n",
       "      <td>United States</td>\n",
       "      <td>Berkshire Hathaway</td>\n",
       "    </tr>\n",
       "  </tbody>\n",
       "</table>\n",
       "</div>"
      ],
      "text/plain": [
       "   No.                      Name Net worth (USD)  Age  \\\n",
       "0    1  Bernard Arnault & family    $211 billion   74   \n",
       "1    2                 Elon Musk    $180 billion   51   \n",
       "2    3                Jeff Bezos    $114 billion   59   \n",
       "3    4             Larry Ellison    $107 billion   78   \n",
       "4    5            Warren Buffett    $106 billion   92   \n",
       "\n",
       "                           Nationality           Primary source(s) of wealth  \n",
       "0                               France                                  LVMH  \n",
       "1  South Africa  Canada  United States  Tesla, SpaceX, Twitter (Currently X)  \n",
       "2                        United States                                Amazon  \n",
       "3                        United States                    Oracle Corporation  \n",
       "4                        United States                    Berkshire Hathaway  "
      ]
     },
     "execution_count": 14,
     "metadata": {},
     "output_type": "execute_result"
    }
   ],
   "source": [
    "data.head()"
   ]
  },
  {
   "cell_type": "code",
   "execution_count": 15,
   "id": "feea4ed5",
   "metadata": {},
   "outputs": [
    {
     "data": {
      "text/html": [
       "<div>\n",
       "<style scoped>\n",
       "    .dataframe tbody tr th:only-of-type {\n",
       "        vertical-align: middle;\n",
       "    }\n",
       "\n",
       "    .dataframe tbody tr th {\n",
       "        vertical-align: top;\n",
       "    }\n",
       "\n",
       "    .dataframe thead th {\n",
       "        text-align: right;\n",
       "    }\n",
       "</style>\n",
       "<table border=\"1\" class=\"dataframe\">\n",
       "  <thead>\n",
       "    <tr style=\"text-align: right;\">\n",
       "      <th></th>\n",
       "      <th>No.</th>\n",
       "      <th>Name</th>\n",
       "      <th>Net worth (USD)</th>\n",
       "      <th>Age</th>\n",
       "      <th>Nationality</th>\n",
       "      <th>Primary source(s) of wealth</th>\n",
       "    </tr>\n",
       "  </thead>\n",
       "  <tbody>\n",
       "    <tr>\n",
       "      <th>5</th>\n",
       "      <td>6</td>\n",
       "      <td>Bill Gates</td>\n",
       "      <td>$104 billion</td>\n",
       "      <td>67</td>\n",
       "      <td>United States</td>\n",
       "      <td>Microsoft</td>\n",
       "    </tr>\n",
       "    <tr>\n",
       "      <th>6</th>\n",
       "      <td>7</td>\n",
       "      <td>Michael Bloomberg</td>\n",
       "      <td>$94.5 billion</td>\n",
       "      <td>81</td>\n",
       "      <td>United States</td>\n",
       "      <td>Bloomberg L.P.</td>\n",
       "    </tr>\n",
       "    <tr>\n",
       "      <th>7</th>\n",
       "      <td>8</td>\n",
       "      <td>Carlos Slim &amp; family</td>\n",
       "      <td>$93 billion</td>\n",
       "      <td>83</td>\n",
       "      <td>Mexico</td>\n",
       "      <td>Telmex, América Móvil, Grupo Carso</td>\n",
       "    </tr>\n",
       "    <tr>\n",
       "      <th>8</th>\n",
       "      <td>9</td>\n",
       "      <td>Mukesh Ambani</td>\n",
       "      <td>$83.4 billion</td>\n",
       "      <td>65</td>\n",
       "      <td>India</td>\n",
       "      <td>Reliance Industries</td>\n",
       "    </tr>\n",
       "    <tr>\n",
       "      <th>9</th>\n",
       "      <td>10</td>\n",
       "      <td>Steve Ballmer</td>\n",
       "      <td>$80.7 billion</td>\n",
       "      <td>67</td>\n",
       "      <td>United States</td>\n",
       "      <td>Microsoft</td>\n",
       "    </tr>\n",
       "  </tbody>\n",
       "</table>\n",
       "</div>"
      ],
      "text/plain": [
       "   No.                  Name Net worth (USD)  Age    Nationality  \\\n",
       "5    6            Bill Gates    $104 billion   67  United States   \n",
       "6    7     Michael Bloomberg   $94.5 billion   81  United States   \n",
       "7    8  Carlos Slim & family     $93 billion   83         Mexico   \n",
       "8    9         Mukesh Ambani   $83.4 billion   65          India   \n",
       "9   10         Steve Ballmer   $80.7 billion   67  United States   \n",
       "\n",
       "          Primary source(s) of wealth  \n",
       "5                           Microsoft  \n",
       "6                      Bloomberg L.P.  \n",
       "7  Telmex, América Móvil, Grupo Carso  \n",
       "8                 Reliance Industries  \n",
       "9                           Microsoft  "
      ]
     },
     "execution_count": 15,
     "metadata": {},
     "output_type": "execute_result"
    }
   ],
   "source": [
    "data.tail()"
   ]
  },
  {
   "cell_type": "code",
   "execution_count": 16,
   "id": "b74db7f0",
   "metadata": {},
   "outputs": [
    {
     "name": "stdout",
     "output_type": "stream",
     "text": [
      "<class 'pandas.core.frame.DataFrame'>\n",
      "RangeIndex: 10 entries, 0 to 9\n",
      "Data columns (total 6 columns):\n",
      " #   Column                       Non-Null Count  Dtype \n",
      "---  ------                       --------------  ----- \n",
      " 0   No.                          10 non-null     int64 \n",
      " 1   Name                         10 non-null     object\n",
      " 2   Net worth (USD)              10 non-null     object\n",
      " 3   Age                          10 non-null     int64 \n",
      " 4   Nationality                  10 non-null     object\n",
      " 5   Primary source(s) of wealth  10 non-null     object\n",
      "dtypes: int64(2), object(4)\n",
      "memory usage: 612.0+ bytes\n"
     ]
    }
   ],
   "source": [
    "data.info()"
   ]
  },
  {
   "cell_type": "code",
   "execution_count": 17,
   "id": "9e876f5d",
   "metadata": {},
   "outputs": [
    {
     "data": {
      "text/html": [
       "<div>\n",
       "<style scoped>\n",
       "    .dataframe tbody tr th:only-of-type {\n",
       "        vertical-align: middle;\n",
       "    }\n",
       "\n",
       "    .dataframe tbody tr th {\n",
       "        vertical-align: top;\n",
       "    }\n",
       "\n",
       "    .dataframe thead th {\n",
       "        text-align: right;\n",
       "    }\n",
       "</style>\n",
       "<table border=\"1\" class=\"dataframe\">\n",
       "  <thead>\n",
       "    <tr style=\"text-align: right;\">\n",
       "      <th></th>\n",
       "      <th>No.</th>\n",
       "      <th>Age</th>\n",
       "    </tr>\n",
       "  </thead>\n",
       "  <tbody>\n",
       "    <tr>\n",
       "      <th>count</th>\n",
       "      <td>10.00000</td>\n",
       "      <td>10.000000</td>\n",
       "    </tr>\n",
       "    <tr>\n",
       "      <th>mean</th>\n",
       "      <td>5.50000</td>\n",
       "      <td>71.700000</td>\n",
       "    </tr>\n",
       "    <tr>\n",
       "      <th>std</th>\n",
       "      <td>3.02765</td>\n",
       "      <td>12.247902</td>\n",
       "    </tr>\n",
       "    <tr>\n",
       "      <th>min</th>\n",
       "      <td>1.00000</td>\n",
       "      <td>51.000000</td>\n",
       "    </tr>\n",
       "    <tr>\n",
       "      <th>25%</th>\n",
       "      <td>3.25000</td>\n",
       "      <td>65.500000</td>\n",
       "    </tr>\n",
       "    <tr>\n",
       "      <th>50%</th>\n",
       "      <td>5.50000</td>\n",
       "      <td>70.500000</td>\n",
       "    </tr>\n",
       "    <tr>\n",
       "      <th>75%</th>\n",
       "      <td>7.75000</td>\n",
       "      <td>80.250000</td>\n",
       "    </tr>\n",
       "    <tr>\n",
       "      <th>max</th>\n",
       "      <td>10.00000</td>\n",
       "      <td>92.000000</td>\n",
       "    </tr>\n",
       "  </tbody>\n",
       "</table>\n",
       "</div>"
      ],
      "text/plain": [
       "            No.        Age\n",
       "count  10.00000  10.000000\n",
       "mean    5.50000  71.700000\n",
       "std     3.02765  12.247902\n",
       "min     1.00000  51.000000\n",
       "25%     3.25000  65.500000\n",
       "50%     5.50000  70.500000\n",
       "75%     7.75000  80.250000\n",
       "max    10.00000  92.000000"
      ]
     },
     "execution_count": 17,
     "metadata": {},
     "output_type": "execute_result"
    }
   ],
   "source": [
    "data.describe()"
   ]
  },
  {
   "cell_type": "code",
   "execution_count": 18,
   "id": "e3c9157f",
   "metadata": {},
   "outputs": [
    {
     "data": {
      "text/plain": [
       "Index(['No.', 'Name', 'Net worth (USD)', 'Age', 'Nationality',\n",
       "       'Primary source(s) of wealth'],\n",
       "      dtype='object')"
      ]
     },
     "execution_count": 18,
     "metadata": {},
     "output_type": "execute_result"
    }
   ],
   "source": [
    "data.columns"
   ]
  },
  {
   "cell_type": "code",
   "execution_count": 19,
   "id": "c3a4ba97",
   "metadata": {},
   "outputs": [
    {
     "data": {
      "text/plain": [
       "No.                            0\n",
       "Name                           0\n",
       "Net worth (USD)                0\n",
       "Age                            0\n",
       "Nationality                    0\n",
       "Primary source(s) of wealth    0\n",
       "dtype: int64"
      ]
     },
     "execution_count": 19,
     "metadata": {},
     "output_type": "execute_result"
    }
   ],
   "source": [
    "data.isnull().sum()"
   ]
  },
  {
   "cell_type": "code",
   "execution_count": 20,
   "id": "5a6df863",
   "metadata": {},
   "outputs": [
    {
     "name": "stdout",
     "output_type": "stream",
     "text": [
      "<class 'pandas.core.frame.DataFrame'>\n",
      "RangeIndex: 10 entries, 0 to 9\n",
      "Data columns (total 6 columns):\n",
      " #   Column                       Non-Null Count  Dtype \n",
      "---  ------                       --------------  ----- \n",
      " 0   No.                          10 non-null     int64 \n",
      " 1   Name                         10 non-null     object\n",
      " 2   Net worth (USD)              10 non-null     object\n",
      " 3   Age                          10 non-null     int64 \n",
      " 4   Nationality                  10 non-null     object\n",
      " 5   Primary source(s) of wealth  10 non-null     object\n",
      "dtypes: int64(2), object(4)\n",
      "memory usage: 612.0+ bytes\n"
     ]
    }
   ],
   "source": [
    "data.info()"
   ]
  },
  {
   "cell_type": "code",
   "execution_count": 21,
   "id": "8b58b2c7",
   "metadata": {},
   "outputs": [
    {
     "data": {
      "text/plain": [
       "array(['France', 'South Africa \\xa0Canada \\xa0United States',\n",
       "       'United States', 'Mexico', 'India'], dtype=object)"
      ]
     },
     "execution_count": 21,
     "metadata": {},
     "output_type": "execute_result"
    }
   ],
   "source": [
    "data[\"Nationality\"].unique()"
   ]
  },
  {
   "cell_type": "code",
   "execution_count": 22,
   "id": "7ecadf99",
   "metadata": {},
   "outputs": [
    {
     "data": {
      "text/plain": [
       "5"
      ]
     },
     "execution_count": 22,
     "metadata": {},
     "output_type": "execute_result"
    }
   ],
   "source": [
    "data[\"Nationality\"].nunique()"
   ]
  },
  {
   "cell_type": "code",
   "execution_count": 23,
   "id": "a28cbfbb",
   "metadata": {},
   "outputs": [
    {
     "data": {
      "text/plain": [
       "Nationality\n",
       "United States                          6\n",
       "France                                 1\n",
       "South Africa  Canada  United States    1\n",
       "Mexico                                 1\n",
       "India                                  1\n",
       "Name: count, dtype: int64"
      ]
     },
     "execution_count": 23,
     "metadata": {},
     "output_type": "execute_result"
    }
   ],
   "source": [
    "data[\"Nationality\"].value_counts()"
   ]
  },
  {
   "cell_type": "code",
   "execution_count": null,
   "id": "edc3d025",
   "metadata": {},
   "outputs": [],
   "source": []
  }
 ],
 "metadata": {
  "kernelspec": {
   "display_name": "Python 3 (ipykernel)",
   "language": "python",
   "name": "python3"
  },
  "language_info": {
   "codemirror_mode": {
    "name": "ipython",
    "version": 3
   },
   "file_extension": ".py",
   "mimetype": "text/x-python",
   "name": "python",
   "nbconvert_exporter": "python",
   "pygments_lexer": "ipython3",
   "version": "3.11.5"
  }
 },
 "nbformat": 4,
 "nbformat_minor": 5
}
