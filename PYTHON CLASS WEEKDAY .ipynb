{
 "cells": [
  {
   "cell_type": "code",
   "execution_count": null,
   "id": "8115dbaa",
   "metadata": {},
   "outputs": [],
   "source": [
    "introduction\n",
    "# installation\n",
    "# printing information\n",
    "# accept input\n",
    "# variables\n",
    "# data types - strings, lists, dictionary, sets, tuple, boolean, none\n",
    "# operators\n",
    "# control flow\n",
    "# loops\n",
    "# functions\n",
    "# lambda\n",
    "# higher order functions\n",
    "# args and kwargs\n",
    "# module\n",
    "# packages\n",
    "# working with file"
   ]
  },
  {
   "cell_type": "code",
   "execution_count": null,
   "id": "a4896422",
   "metadata": {},
   "outputs": [],
   "source": [
    "print(2 + 2)"
   ]
  },
  {
   "cell_type": "code",
   "execution_count": null,
   "id": "16cd8ec0",
   "metadata": {},
   "outputs": [],
   "source": [
    "print(\"wale\")"
   ]
  },
  {
   "cell_type": "code",
   "execution_count": null,
   "id": "1c432bc4",
   "metadata": {},
   "outputs": [],
   "source": [
    "print(\"2 + 2 =\", 2 + 2)"
   ]
  },
  {
   "cell_type": "code",
   "execution_count": null,
   "id": "0706c988",
   "metadata": {},
   "outputs": [],
   "source": [
    "print(\"Total revenue is\", 5000)"
   ]
  },
  {
   "cell_type": "code",
   "execution_count": null,
   "id": "3d60694c",
   "metadata": {},
   "outputs": [],
   "source": [
    "# accepting informationm from user\n",
    "input(\"Enter your name\")"
   ]
  },
  {
   "cell_type": "code",
   "execution_count": null,
   "id": "3ce688d3",
   "metadata": {},
   "outputs": [],
   "source": [
    "# variables - are used to store data\n",
    "age = input(\"enter your age\\n\")\n",
    "firstname = input(\"enter your first name: \\n\")\n",
    "print(\"Welcome\", firstname, \"you are\", age, \"years old\")"
   ]
  },
  {
   "cell_type": "code",
   "execution_count": null,
   "id": "a556de8b",
   "metadata": {},
   "outputs": [],
   "source": [
    "# Variable rules\n",
    "#1. No spaces between variable name eg. first name is wrong instead use first_name\n",
    "#2 do not use a reserved word as variable eg. print, input, global are reserved words\n",
    "#3. Do not start with a number eg. 2numbers\n",
    "#4. do not use symbols except underscore eg. #, !, @, &, (, *\n",
    "# 5. use descriptive word eg. total_price = 500"
   ]
  },
  {
   "cell_type": "code",
   "execution_count": null,
   "id": "0c071538",
   "metadata": {},
   "outputs": [],
   "source": [
    "# data types - A way of storing and manipulating data"
   ]
  },
  {
   "cell_type": "code",
   "execution_count": null,
   "id": "f5f30b6c",
   "metadata": {},
   "outputs": [],
   "source": [
    "# strings data type - a sequence of characters.\n",
    "# it is denoted by '', \" \", \"\"\" \"\"\"'\n",
    "address = \"70c Allen Avenue, Ikeja \"\\\n",
    "\"Life is not hard\"\n",
    "first_name = 'wale'\n",
    "message = \"\"\"Welcome to Data Analytics.\n",
    "Hope you are enjoying the class.\n",
    "Thank You\"\"\""
   ]
  },
  {
   "cell_type": "code",
   "execution_count": null,
   "id": "d2f9731b",
   "metadata": {},
   "outputs": [],
   "source": [
    "print(address)"
   ]
  },
  {
   "cell_type": "code",
   "execution_count": null,
   "id": "7381854f",
   "metadata": {},
   "outputs": [],
   "source": [
    "print(message)"
   ]
  },
  {
   "cell_type": "code",
   "execution_count": null,
   "id": "e9a293b7",
   "metadata": {},
   "outputs": [],
   "source": [
    "len(first_name)"
   ]
  },
  {
   "cell_type": "code",
   "execution_count": null,
   "id": "2f9aae1f",
   "metadata": {},
   "outputs": [],
   "source": [
    "# indexing - extract single character\n",
    "first_name [2]"
   ]
  },
  {
   "cell_type": "code",
   "execution_count": null,
   "id": "27c93323",
   "metadata": {},
   "outputs": [],
   "source": [
    "first_name [-2]"
   ]
  },
  {
   "cell_type": "code",
   "execution_count": null,
   "id": "17e2d127",
   "metadata": {},
   "outputs": [],
   "source": [
    "address"
   ]
  },
  {
   "cell_type": "code",
   "execution_count": null,
   "id": "e51d92bf",
   "metadata": {},
   "outputs": [],
   "source": [
    "# slicing - for extracting multiple characters\n",
    "address [4:9]"
   ]
  },
  {
   "cell_type": "code",
   "execution_count": null,
   "id": "7b19f06a",
   "metadata": {},
   "outputs": [],
   "source": [
    "address [18:23]"
   ]
  },
  {
   "cell_type": "code",
   "execution_count": null,
   "id": "17cbed76",
   "metadata": {},
   "outputs": [],
   "source": [
    "address [10:16]"
   ]
  },
  {
   "cell_type": "code",
   "execution_count": null,
   "id": "346c6d9f",
   "metadata": {},
   "outputs": [],
   "source": [
    "# taking steps\n",
    "numbers = \"123456789\"\n",
    "numbers [::2]"
   ]
  },
  {
   "cell_type": "code",
   "execution_count": null,
   "id": "6c125a95",
   "metadata": {},
   "outputs": [],
   "source": [
    "numbers = [1::2]"
   ]
  },
  {
   "cell_type": "code",
   "execution_count": null,
   "id": "a7a3abf5",
   "metadata": {},
   "outputs": [],
   "source": [
    "numbers[0:5:2]"
   ]
  },
  {
   "cell_type": "code",
   "execution_count": null,
   "id": "0d442602",
   "metadata": {},
   "outputs": [],
   "source": [
    "numbers [3::4]"
   ]
  },
  {
   "cell_type": "code",
   "execution_count": 16,
   "id": "f87f4fdb",
   "metadata": {},
   "outputs": [
    {
     "data": {
      "text/plain": [
       "'12345678'"
      ]
     },
     "execution_count": 16,
     "metadata": {},
     "output_type": "execute_result"
    }
   ],
   "source": [
    "data = \"1:A, 2:B, 3:C, 4:D, 5:E, 6:F, 7:G, 8:H\"\n",
    "data[::5]"
   ]
  },
  {
   "cell_type": "code",
   "execution_count": 14,
   "id": "174a6a81",
   "metadata": {},
   "outputs": [
    {
     "data": {
      "text/plain": [
       "'elaW'"
      ]
     },
     "execution_count": 14,
     "metadata": {},
     "output_type": "execute_result"
    }
   ],
   "source": [
    "sample = 'My Name is Wale'\n",
    "sample[:-5:-1]"
   ]
  },
  {
   "cell_type": "code",
   "execution_count": 17,
   "id": "7b996b38",
   "metadata": {},
   "outputs": [
    {
     "data": {
      "text/plain": [
       "'MY NAME IS WALE'"
      ]
     },
     "execution_count": 17,
     "metadata": {},
     "output_type": "execute_result"
    }
   ],
   "source": [
    "# string method\n",
    "# string are immutable\n",
    "\n",
    "sample = sample.upper()\n",
    "sample"
   ]
  },
  {
   "cell_type": "code",
   "execution_count": 18,
   "id": "e88535a9",
   "metadata": {},
   "outputs": [
    {
     "data": {
      "text/plain": [
       "'my name is wale'"
      ]
     },
     "execution_count": 18,
     "metadata": {},
     "output_type": "execute_result"
    }
   ],
   "source": [
    "sample.lower()"
   ]
  },
  {
   "cell_type": "code",
   "execution_count": 20,
   "id": "9dbf7f41",
   "metadata": {},
   "outputs": [
    {
     "data": {
      "text/plain": [
       "True"
      ]
     },
     "execution_count": 20,
     "metadata": {},
     "output_type": "execute_result"
    }
   ],
   "source": [
    "sample.endswith (\"E\")"
   ]
  },
  {
   "cell_type": "code",
   "execution_count": 21,
   "id": "c20d7b03",
   "metadata": {},
   "outputs": [
    {
     "data": {
      "text/plain": [
       "True"
      ]
     },
     "execution_count": 21,
     "metadata": {},
     "output_type": "execute_result"
    }
   ],
   "source": [
    "sample.startswith (\"M\")"
   ]
  },
  {
   "cell_type": "code",
   "execution_count": 22,
   "id": "2befcf07",
   "metadata": {},
   "outputs": [
    {
     "data": {
      "text/plain": [
       "2"
      ]
     },
     "execution_count": 22,
     "metadata": {},
     "output_type": "execute_result"
    }
   ],
   "source": [
    "sample.count(\"M\")"
   ]
  },
  {
   "cell_type": "code",
   "execution_count": 24,
   "id": "b61d0dd3",
   "metadata": {},
   "outputs": [
    {
     "data": {
      "text/plain": [
       "3"
      ]
     },
     "execution_count": 24,
     "metadata": {},
     "output_type": "execute_result"
    }
   ],
   "source": [
    "sample.find(\"NAME\")"
   ]
  },
  {
   "cell_type": "code",
   "execution_count": 25,
   "id": "861225d7",
   "metadata": {},
   "outputs": [
    {
     "data": {
      "text/plain": [
       "11"
      ]
     },
     "execution_count": 25,
     "metadata": {},
     "output_type": "execute_result"
    }
   ],
   "source": [
    "sample.find(\"WALE\")"
   ]
  },
  {
   "cell_type": "code",
   "execution_count": 26,
   "id": "567346dc",
   "metadata": {},
   "outputs": [
    {
     "data": {
      "text/plain": [
       "11"
      ]
     },
     "execution_count": 26,
     "metadata": {},
     "output_type": "execute_result"
    }
   ],
   "source": [
    "sample.index(\"WALE\")"
   ]
  },
  {
   "cell_type": "code",
   "execution_count": 27,
   "id": "d85ac791",
   "metadata": {},
   "outputs": [
    {
     "data": {
      "text/plain": [
       "['MY', 'NAME', 'IS', 'WALE']"
      ]
     },
     "execution_count": 27,
     "metadata": {},
     "output_type": "execute_result"
    }
   ],
   "source": [
    "sample.split()"
   ]
  },
  {
   "cell_type": "code",
   "execution_count": 28,
   "id": "77482d92",
   "metadata": {},
   "outputs": [
    {
     "data": {
      "text/plain": [
       "['MY', 'NAME', 'IS', 'WALE']"
      ]
     },
     "execution_count": 28,
     "metadata": {},
     "output_type": "execute_result"
    }
   ],
   "source": [
    "word = sample.split()\n",
    "word"
   ]
  },
  {
   "cell_type": "code",
   "execution_count": 30,
   "id": "1fb33857",
   "metadata": {},
   "outputs": [
    {
     "data": {
      "text/plain": [
       "'MY NAME IS WALE'"
      ]
     },
     "execution_count": 30,
     "metadata": {},
     "output_type": "execute_result"
    }
   ],
   "source": [
    "\" \".join(word)"
   ]
  },
  {
   "cell_type": "code",
   "execution_count": 33,
   "id": "f2e6aa0c",
   "metadata": {},
   "outputs": [
    {
     "data": {
      "text/plain": [
       "'MY NAME IS MARY'"
      ]
     },
     "execution_count": 33,
     "metadata": {},
     "output_type": "execute_result"
    }
   ],
   "source": [
    "sample.replace(\"WALE\", \"MARY\")"
   ]
  },
  {
   "cell_type": "code",
   "execution_count": 35,
   "id": "5fc4edf3",
   "metadata": {},
   "outputs": [],
   "source": [
    "name = \"      JOHN       \""
   ]
  },
  {
   "cell_type": "code",
   "execution_count": 36,
   "id": "d334f96b",
   "metadata": {},
   "outputs": [
    {
     "data": {
      "text/plain": [
       "'      JOHN'"
      ]
     },
     "execution_count": 36,
     "metadata": {},
     "output_type": "execute_result"
    }
   ],
   "source": [
    "name.rstrip()"
   ]
  },
  {
   "cell_type": "code",
   "execution_count": 37,
   "id": "300c35db",
   "metadata": {},
   "outputs": [
    {
     "data": {
      "text/plain": [
       "'JOHN       '"
      ]
     },
     "execution_count": 37,
     "metadata": {},
     "output_type": "execute_result"
    }
   ],
   "source": [
    "name.lstrip()"
   ]
  },
  {
   "cell_type": "code",
   "execution_count": 38,
   "id": "7bbb1646",
   "metadata": {},
   "outputs": [
    {
     "data": {
      "text/plain": [
       "'JOHN'"
      ]
     },
     "execution_count": 38,
     "metadata": {},
     "output_type": "execute_result"
    }
   ],
   "source": [
    "name.strip()"
   ]
  },
  {
   "cell_type": "code",
   "execution_count": 52,
   "id": "9dbdb540",
   "metadata": {},
   "outputs": [],
   "source": [
    "word = \"God is Here\""
   ]
  },
  {
   "cell_type": "code",
   "execution_count": 57,
   "id": "28fc9ddf",
   "metadata": {},
   "outputs": [
    {
     "data": {
      "text/plain": [
       "'Here is God'"
      ]
     },
     "execution_count": 57,
     "metadata": {},
     "output_type": "execute_result"
    }
   ],
   "source": [
    "\" \".join(word.split()[::-1])"
   ]
  },
  {
   "cell_type": "code",
   "execution_count": 58,
   "id": "b20c35c2",
   "metadata": {},
   "outputs": [
    {
     "data": {
      "text/plain": [
       "'Here is God'"
      ]
     },
     "execution_count": 58,
     "metadata": {},
     "output_type": "execute_result"
    }
   ],
   "source": [
    "word.replace(\"God is Here\", \"Here is God\")"
   ]
  },
  {
   "cell_type": "code",
   "execution_count": 62,
   "id": "5b18189d",
   "metadata": {},
   "outputs": [
    {
     "data": {
      "text/plain": [
       "'Mary'"
      ]
     },
     "execution_count": 62,
     "metadata": {},
     "output_type": "execute_result"
    }
   ],
   "source": [
    "# List data type\n",
    "# listd is for storing multiple data\n",
    "# it is  denoted by []\n",
    "# list are mutuable\n",
    "names = [\"wale\",\"Mary\",\"John\"]\n",
    "names[1]"
   ]
  },
  {
   "cell_type": "code",
   "execution_count": 66,
   "id": "aab7d26b",
   "metadata": {},
   "outputs": [
    {
     "data": {
      "text/plain": [
       "['wale', 'John']"
      ]
     },
     "execution_count": 66,
     "metadata": {},
     "output_type": "execute_result"
    }
   ],
   "source": [
    "# slicing a list\n",
    "names [1:3]\n",
    "names [0:3:2]"
   ]
  },
  {
   "cell_type": "code",
   "execution_count": 67,
   "id": "0586911b",
   "metadata": {},
   "outputs": [],
   "source": [
    "# listd methods\n",
    "\n",
    "# append adds new item at the end of the list\n",
    "names.append(\"Linda\")"
   ]
  },
  {
   "cell_type": "code",
   "execution_count": 68,
   "id": "1a78e2e5",
   "metadata": {},
   "outputs": [
    {
     "data": {
      "text/plain": [
       "['wale', 'Mary', 'John', 'Linda']"
      ]
     },
     "execution_count": 68,
     "metadata": {},
     "output_type": "execute_result"
    }
   ],
   "source": [
    "names"
   ]
  },
  {
   "cell_type": "code",
   "execution_count": 69,
   "id": "e56fd67b",
   "metadata": {},
   "outputs": [
    {
     "data": {
      "text/plain": [
       "['wale', 'Mary', 'John', 'Linda']"
      ]
     },
     "execution_count": 69,
     "metadata": {},
     "output_type": "execute_result"
    }
   ],
   "source": [
    "# copy will create a duplicate of your list\n",
    "new_names = names.copy()\n",
    "new_names"
   ]
  },
  {
   "cell_type": "code",
   "execution_count": 70,
   "id": "01a61617",
   "metadata": {},
   "outputs": [],
   "source": [
    "new_names.clear()"
   ]
  },
  {
   "cell_type": "code",
   "execution_count": 71,
   "id": "96471269",
   "metadata": {},
   "outputs": [
    {
     "data": {
      "text/plain": [
       "[]"
      ]
     },
     "execution_count": 71,
     "metadata": {},
     "output_type": "execute_result"
    }
   ],
   "source": [
    "new_names"
   ]
  },
  {
   "cell_type": "code",
   "execution_count": 72,
   "id": "64a49bbc",
   "metadata": {},
   "outputs": [
    {
     "data": {
      "text/plain": [
       "['wale', 'Mary', 'John', 'Linda']"
      ]
     },
     "execution_count": 72,
     "metadata": {},
     "output_type": "execute_result"
    }
   ],
   "source": [
    "names"
   ]
  },
  {
   "cell_type": "code",
   "execution_count": 73,
   "id": "46efd5ef",
   "metadata": {},
   "outputs": [
    {
     "data": {
      "text/plain": [
       "'Linda'"
      ]
     },
     "execution_count": 73,
     "metadata": {},
     "output_type": "execute_result"
    }
   ],
   "source": [
    "# pop removes last names\n",
    "names.pop()"
   ]
  },
  {
   "cell_type": "code",
   "execution_count": 74,
   "id": "3787b234",
   "metadata": {},
   "outputs": [
    {
     "data": {
      "text/plain": [
       "['wale', 'Mary', 'John']"
      ]
     },
     "execution_count": 74,
     "metadata": {},
     "output_type": "execute_result"
    }
   ],
   "source": [
    "names"
   ]
  },
  {
   "cell_type": "code",
   "execution_count": 75,
   "id": "8536066d",
   "metadata": {},
   "outputs": [],
   "source": [
    "# remove takes away any item you specify\n",
    "names.remove(\"Mary\")"
   ]
  },
  {
   "cell_type": "code",
   "execution_count": 76,
   "id": "f51410b5",
   "metadata": {},
   "outputs": [
    {
     "data": {
      "text/plain": [
       "['wale', 'John']"
      ]
     },
     "execution_count": 76,
     "metadata": {},
     "output_type": "execute_result"
    }
   ],
   "source": [
    "names"
   ]
  },
  {
   "cell_type": "code",
   "execution_count": 77,
   "id": "770772dd",
   "metadata": {},
   "outputs": [
    {
     "data": {
      "text/plain": [
       "'wale'"
      ]
     },
     "execution_count": 77,
     "metadata": {},
     "output_type": "execute_result"
    }
   ],
   "source": [
    "names.pop(0)"
   ]
  },
  {
   "cell_type": "code",
   "execution_count": 78,
   "id": "06ef0291",
   "metadata": {},
   "outputs": [
    {
     "data": {
      "text/plain": [
       "['John']"
      ]
     },
     "execution_count": 78,
     "metadata": {},
     "output_type": "execute_result"
    }
   ],
   "source": [
    "names"
   ]
  },
  {
   "cell_type": "code",
   "execution_count": 79,
   "id": "5d751da3",
   "metadata": {},
   "outputs": [],
   "source": [
    "names.extend([\"Mike\", \"Audu\", \"Bola\"])"
   ]
  },
  {
   "cell_type": "code",
   "execution_count": 80,
   "id": "e7dde247",
   "metadata": {},
   "outputs": [
    {
     "data": {
      "text/plain": [
       "['John', 'Mike', 'Audu', 'Bola']"
      ]
     },
     "execution_count": 80,
     "metadata": {},
     "output_type": "execute_result"
    }
   ],
   "source": [
    "names"
   ]
  },
  {
   "cell_type": "code",
   "execution_count": 81,
   "id": "0380a798",
   "metadata": {},
   "outputs": [],
   "source": [
    "# insert will add specified item in the specified index position\n",
    "names.insert(2,\"Christy\")"
   ]
  },
  {
   "cell_type": "code",
   "execution_count": 82,
   "id": "20b3e8b9",
   "metadata": {},
   "outputs": [
    {
     "data": {
      "text/plain": [
       "['John', 'Mike', 'Christy', 'Audu', 'Bola']"
      ]
     },
     "execution_count": 82,
     "metadata": {},
     "output_type": "execute_result"
    }
   ],
   "source": [
    "names"
   ]
  },
  {
   "cell_type": "code",
   "execution_count": 83,
   "id": "2dc542c8",
   "metadata": {},
   "outputs": [],
   "source": [
    "# sort will arrange items in ascending order\n",
    "names.sort()"
   ]
  },
  {
   "cell_type": "code",
   "execution_count": 84,
   "id": "e401c2f0",
   "metadata": {},
   "outputs": [
    {
     "data": {
      "text/plain": [
       "['Audu', 'Bola', 'Christy', 'John', 'Mike']"
      ]
     },
     "execution_count": 84,
     "metadata": {},
     "output_type": "execute_result"
    }
   ],
   "source": [
    "names"
   ]
  },
  {
   "cell_type": "code",
   "execution_count": 85,
   "id": "51d0f23f",
   "metadata": {},
   "outputs": [],
   "source": [
    "# reverse will arrange the items in desending order\n",
    "names.reverse()"
   ]
  },
  {
   "cell_type": "code",
   "execution_count": 86,
   "id": "a7d5fc7a",
   "metadata": {},
   "outputs": [
    {
     "data": {
      "text/plain": [
       "['Mike', 'John', 'Christy', 'Bola', 'Audu']"
      ]
     },
     "execution_count": 86,
     "metadata": {},
     "output_type": "execute_result"
    }
   ],
   "source": [
    "names"
   ]
  },
  {
   "cell_type": "code",
   "execution_count": 6,
   "id": "1752b129",
   "metadata": {},
   "outputs": [
    {
     "data": {
      "text/plain": [
       "54"
      ]
     },
     "execution_count": 6,
     "metadata": {},
     "output_type": "execute_result"
    }
   ],
   "source": [
    "student_score = [1,2,3,1,2,3,1,2,3,1,2,3,1,2,3,1,2,3,1,2,3,1,2,3,1,2,3,1,2,3,1,2,3,1,2,3,1,2,3,1,2,3,1,2,3,1,2,3,1,2,3,1,2,3,7,1,2,3,1,2,3,1,2,3,1,2,3,1,2,3,]\n",
    "# student_score[3] = 8\n",
    "# student_score\n",
    "\n",
    "student_score.index(7)\n",
    "student_score[54] = 8\n",
    "student_score.index(8)"
   ]
  },
  {
   "cell_type": "code",
   "execution_count": 8,
   "id": "bf5cd020",
   "metadata": {},
   "outputs": [],
   "source": [
    "num = '123456789'"
   ]
  },
  {
   "cell_type": "code",
   "execution_count": 9,
   "id": "7816dda6",
   "metadata": {},
   "outputs": [
    {
     "data": {
      "text/plain": [
       "'8765432'"
      ]
     },
     "execution_count": 9,
     "metadata": {},
     "output_type": "execute_result"
    }
   ],
   "source": [
    "num [-2:-9:-1]"
   ]
  },
  {
   "cell_type": "code",
   "execution_count": 27,
   "id": "99a6abfa",
   "metadata": {},
   "outputs": [
    {
     "data": {
      "text/plain": [
       "[10, 20, 6000, 7000, 30, 40]"
      ]
     },
     "execution_count": 27,
     "metadata": {},
     "output_type": "execute_result"
    }
   ],
   "source": [
    "# write a program to add item 7000 after 6000 in the following Python List\n",
    "\n",
    "data = [10, 20, 6000, 30, 40]\n",
    "data.insert(3,7000)\n",
    "data"
   ]
  },
  {
   "cell_type": "code",
   "execution_count": 26,
   "id": "f89ec2e5",
   "metadata": {},
   "outputs": [
    {
     "data": {
      "text/plain": [
       "['a', 'b', 'f', 'g', 'h', 'i', 'j']"
      ]
     },
     "execution_count": 26,
     "metadata": {},
     "output_type": "execute_result"
    }
   ],
   "source": [
    "# you have given a nested list. Write a program to extend it by adding the sublist [\"h\", \"i\", \"j\"] in such a way that it will look like the following list\n",
    "info  = [\"a\", \"b\", \"f\", \"g\"]\n",
    "info.extend([\"h\",\"i\",\"j\"])\n",
    "info"
   ]
  },
  {
   "cell_type": "code",
   "execution_count": 28,
   "id": "1c4e4319",
   "metadata": {},
   "outputs": [
    {
     "data": {
      "text/plain": [
       "5"
      ]
     },
     "execution_count": 28,
     "metadata": {},
     "output_type": "execute_result"
    }
   ],
   "source": [
    "# nested list is a list inside another list\n",
    "\n",
    "data = [[1,2,3], [4,5,6],[1,2],9]\n",
    "data[1][1]"
   ]
  },
  {
   "cell_type": "code",
   "execution_count": 29,
   "id": "e055aac2",
   "metadata": {},
   "outputs": [
    {
     "data": {
      "text/plain": [
       "9"
      ]
     },
     "execution_count": 29,
     "metadata": {},
     "output_type": "execute_result"
    }
   ],
   "source": [
    "data[3]"
   ]
  },
  {
   "cell_type": "code",
   "execution_count": 62,
   "id": "3c40b0bd",
   "metadata": {},
   "outputs": [
    {
     "data": {
      "text/plain": [
       "dict"
      ]
     },
     "execution_count": 62,
     "metadata": {},
     "output_type": "execute_result"
    }
   ],
   "source": [
    "# dictionary - is a key-value pair\n",
    "# denoted by {}\n",
    "# dictionary are unordered\n",
    "\n",
    "staff = {\"name\":\"wale\", \"age\":18}\n",
    "type(staff)"
   ]
  },
  {
   "cell_type": "code",
   "execution_count": 31,
   "id": "df361f87",
   "metadata": {},
   "outputs": [
    {
     "data": {
      "text/plain": [
       "18"
      ]
     },
     "execution_count": 31,
     "metadata": {},
     "output_type": "execute_result"
    }
   ],
   "source": [
    "staff[\"age\"]"
   ]
  },
  {
   "cell_type": "code",
   "execution_count": 32,
   "id": "9072ff95",
   "metadata": {},
   "outputs": [
    {
     "data": {
      "text/plain": [
       "'wale'"
      ]
     },
     "execution_count": 32,
     "metadata": {},
     "output_type": "execute_result"
    }
   ],
   "source": [
    "staff[\"name\"]"
   ]
  },
  {
   "cell_type": "code",
   "execution_count": 33,
   "id": "52d9aadb",
   "metadata": {
    "scrolled": true
   },
   "outputs": [
    {
     "data": {
      "text/plain": [
       "'Ikeja'"
      ]
     },
     "execution_count": 33,
     "metadata": {},
     "output_type": "execute_result"
    }
   ],
   "source": [
    "emp = {\"address\":{\"street\":\"70c Allen\",\"city\":\"Ikeja\"}}\n",
    "emp[\"address\"][\"city\"]"
   ]
  },
  {
   "cell_type": "code",
   "execution_count": 36,
   "id": "a2784f87",
   "metadata": {},
   "outputs": [],
   "source": [
    "employees = [{\"name\":\"wale\", \"age\":18},\n",
    "             {\"name\":\"Mary\", \"age\":30},\n",
    "             {\"name\":\"John\", \"age\":25}]"
   ]
  },
  {
   "cell_type": "code",
   "execution_count": 37,
   "id": "2c8d96cf",
   "metadata": {},
   "outputs": [
    {
     "data": {
      "text/plain": [
       "'Mary'"
      ]
     },
     "execution_count": 37,
     "metadata": {},
     "output_type": "execute_result"
    }
   ],
   "source": [
    "employees[1][\"name\"]"
   ]
  },
  {
   "cell_type": "code",
   "execution_count": 38,
   "id": "1b9ba98f",
   "metadata": {},
   "outputs": [
    {
     "data": {
      "text/plain": [
       "'wale'"
      ]
     },
     "execution_count": 38,
     "metadata": {},
     "output_type": "execute_result"
    }
   ],
   "source": [
    "employees[0][\"name\"]"
   ]
  },
  {
   "cell_type": "code",
   "execution_count": 39,
   "id": "ab2f43fa",
   "metadata": {},
   "outputs": [
    {
     "data": {
      "text/plain": [
       "'John'"
      ]
     },
     "execution_count": 39,
     "metadata": {},
     "output_type": "execute_result"
    }
   ],
   "source": [
    "employees[2][\"name\"]"
   ]
  },
  {
   "cell_type": "code",
   "execution_count": 40,
   "id": "9a7add18",
   "metadata": {},
   "outputs": [
    {
     "data": {
      "text/plain": [
       "{'name': 'wale', 'age': 18}"
      ]
     },
     "execution_count": 40,
     "metadata": {},
     "output_type": "execute_result"
    }
   ],
   "source": [
    "employees[0]"
   ]
  },
  {
   "cell_type": "code",
   "execution_count": 41,
   "id": "14bd6f2c",
   "metadata": {},
   "outputs": [],
   "source": [
    "record=['green',['red',[1,2,3,\"blue\"],6],4]"
   ]
  },
  {
   "cell_type": "code",
   "execution_count": 47,
   "id": "501159f1",
   "metadata": {},
   "outputs": [
    {
     "data": {
      "text/plain": [
       "'blue'"
      ]
     },
     "execution_count": 47,
     "metadata": {},
     "output_type": "execute_result"
    }
   ],
   "source": [
    "record[1][1][3]"
   ]
  },
  {
   "cell_type": "code",
   "execution_count": 49,
   "id": "0997dc80",
   "metadata": {},
   "outputs": [
    {
     "data": {
      "text/plain": [
       "4"
      ]
     },
     "execution_count": 49,
     "metadata": {},
     "output_type": "execute_result"
    }
   ],
   "source": [
    "record[2]"
   ]
  },
  {
   "cell_type": "code",
   "execution_count": 50,
   "id": "082cf562",
   "metadata": {},
   "outputs": [
    {
     "data": {
      "text/plain": [
       "'green'"
      ]
     },
     "execution_count": 50,
     "metadata": {},
     "output_type": "execute_result"
    }
   ],
   "source": [
    "record[0]"
   ]
  },
  {
   "cell_type": "code",
   "execution_count": 52,
   "id": "ed44b1c6",
   "metadata": {},
   "outputs": [
    {
     "data": {
      "text/plain": [
       "'wale'"
      ]
     },
     "execution_count": 52,
     "metadata": {},
     "output_type": "execute_result"
    }
   ],
   "source": [
    "# dictionary methods\n",
    "staff.get(\"name\")"
   ]
  },
  {
   "cell_type": "code",
   "execution_count": 53,
   "id": "ff73b26d",
   "metadata": {},
   "outputs": [
    {
     "data": {
      "text/plain": [
       "dict_keys(['name', 'age'])"
      ]
     },
     "execution_count": 53,
     "metadata": {},
     "output_type": "execute_result"
    }
   ],
   "source": [
    "staff.keys()"
   ]
  },
  {
   "cell_type": "code",
   "execution_count": 55,
   "id": "b34e8036",
   "metadata": {},
   "outputs": [
    {
     "data": {
      "text/plain": [
       "dict_values(['wale', 18])"
      ]
     },
     "execution_count": 55,
     "metadata": {},
     "output_type": "execute_result"
    }
   ],
   "source": [
    "staff.values()"
   ]
  },
  {
   "cell_type": "code",
   "execution_count": 57,
   "id": "bf667e19",
   "metadata": {},
   "outputs": [
    {
     "data": {
      "text/plain": [
       "'wale'"
      ]
     },
     "execution_count": 57,
     "metadata": {},
     "output_type": "execute_result"
    }
   ],
   "source": [
    "staff.pop(\"name\")"
   ]
  },
  {
   "cell_type": "code",
   "execution_count": 60,
   "id": "1a1f0c91",
   "metadata": {},
   "outputs": [
    {
     "data": {
      "text/plain": [
       "dict_items([('age', 18)])"
      ]
     },
     "execution_count": 60,
     "metadata": {},
     "output_type": "execute_result"
    }
   ],
   "source": [
    "staff.items()"
   ]
  },
  {
   "cell_type": "code",
   "execution_count": 63,
   "id": "b38fc010",
   "metadata": {},
   "outputs": [
    {
     "data": {
      "text/plain": [
       "{'name': 'wale', 'age': 18}"
      ]
     },
     "execution_count": 63,
     "metadata": {},
     "output_type": "execute_result"
    }
   ],
   "source": [
    "staff"
   ]
  },
  {
   "cell_type": "code",
   "execution_count": 71,
   "id": "3f4a1f9a",
   "metadata": {},
   "outputs": [],
   "source": [
    "# update add new items or update an existing value\n",
    "staff.update({\"name\":\"Mary\",\"age\":20})"
   ]
  },
  {
   "cell_type": "code",
   "execution_count": 66,
   "id": "4e9dcc23",
   "metadata": {},
   "outputs": [
    {
     "data": {
      "text/plain": [
       "{'name': 'Mary', 'age': 20}"
      ]
     },
     "execution_count": 66,
     "metadata": {},
     "output_type": "execute_result"
    }
   ],
   "source": [
    "staff"
   ]
  },
  {
   "cell_type": "code",
   "execution_count": 68,
   "id": "9e76ad96",
   "metadata": {},
   "outputs": [],
   "source": [
    "staff.update({\"age\":18})"
   ]
  },
  {
   "cell_type": "code",
   "execution_count": 69,
   "id": "24d0219f",
   "metadata": {},
   "outputs": [
    {
     "data": {
      "text/plain": [
       "set"
      ]
     },
     "execution_count": 69,
     "metadata": {},
     "output_type": "execute_result"
    }
   ],
   "source": [
    "# sets data type\n",
    "# set is used to store unique values\n",
    "# it is denoted by {}\n",
    "\n",
    "data = {1,2}\n",
    "type(data)"
   ]
  },
  {
   "cell_type": "code",
   "execution_count": 70,
   "id": "12e031fe",
   "metadata": {},
   "outputs": [
    {
     "data": {
      "text/plain": [
       "{1, 2, 3, 11}"
      ]
     },
     "execution_count": 70,
     "metadata": {},
     "output_type": "execute_result"
    }
   ],
   "source": [
    "info = {1,2,3,1,1,1,1,1,1,11,2,2,2,2,2,2}\n",
    "info"
   ]
  },
  {
   "cell_type": "code",
   "execution_count": 72,
   "id": "c7217196",
   "metadata": {},
   "outputs": [],
   "source": [
    "info.add(6)"
   ]
  },
  {
   "cell_type": "code",
   "execution_count": 73,
   "id": "3b65dadf",
   "metadata": {},
   "outputs": [
    {
     "data": {
      "text/plain": [
       "{1, 2, 3, 6, 11}"
      ]
     },
     "execution_count": 73,
     "metadata": {},
     "output_type": "execute_result"
    }
   ],
   "source": [
    "info"
   ]
  },
  {
   "cell_type": "code",
   "execution_count": 74,
   "id": "4eb439b5",
   "metadata": {},
   "outputs": [],
   "source": [
    "x = {1,2,3}\n",
    "y = {3,4,5}"
   ]
  },
  {
   "cell_type": "code",
   "execution_count": 75,
   "id": "f6c6b1c4",
   "metadata": {},
   "outputs": [
    {
     "data": {
      "text/plain": [
       "{3}"
      ]
     },
     "execution_count": 75,
     "metadata": {},
     "output_type": "execute_result"
    }
   ],
   "source": [
    "# intersection is what is common in both\n",
    "\n",
    "x.intersection(y)"
   ]
  },
  {
   "cell_type": "code",
   "execution_count": 78,
   "id": "875ea460",
   "metadata": {},
   "outputs": [
    {
     "data": {
      "text/plain": [
       "{3}"
      ]
     },
     "execution_count": 78,
     "metadata": {},
     "output_type": "execute_result"
    }
   ],
   "source": [
    "y.intersection(x)"
   ]
  },
  {
   "cell_type": "code",
   "execution_count": 79,
   "id": "98803a27",
   "metadata": {},
   "outputs": [
    {
     "data": {
      "text/plain": [
       "{1, 2}"
      ]
     },
     "execution_count": 79,
     "metadata": {},
     "output_type": "execute_result"
    }
   ],
   "source": [
    "# difference gives what is in x that is not in y\n",
    "\n",
    "x.difference(y)"
   ]
  },
  {
   "cell_type": "code",
   "execution_count": 80,
   "id": "18ee5e0d",
   "metadata": {},
   "outputs": [
    {
     "data": {
      "text/plain": [
       "{1, 2, 3, 4, 5}"
      ]
     },
     "execution_count": 80,
     "metadata": {},
     "output_type": "execute_result"
    }
   ],
   "source": [
    "# union combine both set togther without duplicate\n",
    "x.union(y)"
   ]
  },
  {
   "cell_type": "code",
   "execution_count": 81,
   "id": "41545c75",
   "metadata": {},
   "outputs": [
    {
     "data": {
      "text/plain": [
       "{1, 2, 4, 5}"
      ]
     },
     "execution_count": 81,
     "metadata": {},
     "output_type": "execute_result"
    }
   ],
   "source": [
    "# symmetric difference combine what is in x and not in y with what is in y and not in x \n",
    "x.symmetric_difference(y)"
   ]
  },
  {
   "cell_type": "code",
   "execution_count": 85,
   "id": "f37dfe2f",
   "metadata": {},
   "outputs": [],
   "source": [
    "# boolean data type\n",
    "# for storing True or False\n",
    "# true = 1, false = 0\n",
    "\n",
    "is_married = False"
   ]
  },
  {
   "cell_type": "code",
   "execution_count": 87,
   "id": "cce2a48a",
   "metadata": {},
   "outputs": [],
   "source": [
    "# tuple data type is for storing immutable values\n",
    "# denoted by parathesis\n",
    "\n",
    "day_of_the_week = (\"mon\",\"tue\",\"wed\")"
   ]
  },
  {
   "cell_type": "code",
   "execution_count": 83,
   "id": "1fdc49c7",
   "metadata": {},
   "outputs": [],
   "source": [
    "# numeric data type\n",
    "# integal, float, complex number\n",
    "\n",
    "age = 18   #integal\n",
    "salary = 500.123456  #float"
   ]
  },
  {
   "cell_type": "code",
   "execution_count": 84,
   "id": "b246b669",
   "metadata": {},
   "outputs": [
    {
     "name": "stdout",
     "output_type": "stream",
     "text": [
      "500.12\n"
     ]
    }
   ],
   "source": [
    "print(f\"%.2f\" %salary)"
   ]
  },
  {
   "cell_type": "code",
   "execution_count": 88,
   "id": "e7b6703f",
   "metadata": {},
   "outputs": [
    {
     "name": "stdout",
     "output_type": "stream",
     "text": [
      "500.123\n"
     ]
    }
   ],
   "source": [
    "print(f\"%.3f\" %salary)"
   ]
  },
  {
   "cell_type": "code",
   "execution_count": null,
   "id": "65eca9fa",
   "metadata": {},
   "outputs": [],
   "source": []
  },
  {
   "cell_type": "code",
   "execution_count": null,
   "id": "f1d18855",
   "metadata": {},
   "outputs": [],
   "source": []
  },
  {
   "cell_type": "code",
   "execution_count": null,
   "id": "a0f78c62",
   "metadata": {},
   "outputs": [],
   "source": []
  }
 ],
 "metadata": {
  "kernelspec": {
   "display_name": "Python 3 (ipykernel)",
   "language": "python",
   "name": "python3"
  },
  "language_info": {
   "codemirror_mode": {
    "name": "ipython",
    "version": 3
   },
   "file_extension": ".py",
   "mimetype": "text/x-python",
   "name": "python",
   "nbconvert_exporter": "python",
   "pygments_lexer": "ipython3",
   "version": "3.11.5"
  }
 },
 "nbformat": 4,
 "nbformat_minor": 5
}
